{
 "cells": [
  {
   "cell_type": "code",
   "execution_count": 1,
   "id": "27a9aec8",
   "metadata": {},
   "outputs": [],
   "source": [
    "import pandas as pd\n",
    "import numpy as np\n",
    "from sqlalchemy import create_engine, text, select\n",
    "from sqlalchemy.orm import sessionmaker\n",
    "import os\n",
    "from dotenv import load_dotenv\n",
    "from datetime import datetime"
   ]
  },
  {
   "cell_type": "code",
   "execution_count": 2,
   "id": "0992c2e0",
   "metadata": {},
   "outputs": [],
   "source": [
    "# Loading env variables\n",
    "load_dotenv(dotenv_path='.\\.env')\n",
    "\n",
    "user = os.getenv('user')\n",
    "password = os.getenv('password')\n",
    "host = os.getenv('host')\n",
    "port = os.getenv('port')\n",
    "database = os.getenv('database')"
   ]
  },
  {
   "cell_type": "code",
   "execution_count": 3,
   "id": "9bb851a0",
   "metadata": {},
   "outputs": [],
   "source": [
    "# Creating Postgre SQL connection, passing user and password as arguments when running script\n",
    "engine = create_engine(f'postgresql://{user}:{password}@{host}:{port}/{database}')"
   ]
  },
  {
   "cell_type": "code",
   "execution_count": 4,
   "id": "1818f63d",
   "metadata": {},
   "outputs": [],
   "source": [
    "# Importing the 4 tables\n",
    "df_sales = pd.read_sql_query(\"SELECT * FROM fact_sales\", con=engine, parse_dates='transaction_date')\n",
    "df_customers = pd.read_sql_query(\"SELECT * FROM dim_customers\", con=engine)\n",
    "df_products = pd.read_sql_query(\"SELECT * FROM dim_products\", con=engine)\n",
    "df_state_region = pd.read_sql_query(\"SELECT * FROM state_region_mapping\", con=engine)"
   ]
  },
  {
   "cell_type": "code",
   "execution_count": 5,
   "id": "f8e7da1a",
   "metadata": {
    "scrolled": true
   },
   "outputs": [],
   "source": [
    "def df_details(df:pd.DataFrame) -> None:\n",
    "    '''Function to provide main details on a DataFrame'''\n",
    "    \n",
    "    print(f'DataFrame Shape: {df.shape}\\n')\n",
    "        \n",
    "    details_df = pd.DataFrame({'Data Type':df.dtypes, \n",
    "                               'Count': df.count(),\n",
    "                               'Missing':df.isnull().sum(),\n",
    "                               'Missing (%)':round((df.isnull().sum())/df.shape[0]*100,2),\n",
    "                               'Mean':round(df.mean(numeric_only=True), 0),\n",
    "                               'Min': round(df.min(numeric_only=True),0),\n",
    "                               'Median': round(df.median(numeric_only=True), 0),\n",
    "                               'Max': round(df.max(numeric_only=True),0),\n",
    "                               '# Unique': df.nunique()},\n",
    "                                index=df.columns)\n",
    "    \n",
    "    return details_df"
   ]
  },
  {
   "cell_type": "markdown",
   "id": "4b7f880a",
   "metadata": {},
   "source": [
    "### Sales Table"
   ]
  },
  {
   "cell_type": "code",
   "execution_count": 6,
   "id": "4051c9b7",
   "metadata": {},
   "outputs": [
    {
     "data": {
      "text/html": [
       "<div>\n",
       "<style scoped>\n",
       "    .dataframe tbody tr th:only-of-type {\n",
       "        vertical-align: middle;\n",
       "    }\n",
       "\n",
       "    .dataframe tbody tr th {\n",
       "        vertical-align: top;\n",
       "    }\n",
       "\n",
       "    .dataframe thead th {\n",
       "        text-align: right;\n",
       "    }\n",
       "</style>\n",
       "<table border=\"1\" class=\"dataframe\">\n",
       "  <thead>\n",
       "    <tr style=\"text-align: right;\">\n",
       "      <th></th>\n",
       "      <th>transaction_date</th>\n",
       "      <th>customer_id</th>\n",
       "      <th>description</th>\n",
       "      <th>stock_code</th>\n",
       "      <th>invoice_no</th>\n",
       "      <th>quantity</th>\n",
       "      <th>sales</th>\n",
       "      <th>unit_price</th>\n",
       "    </tr>\n",
       "  </thead>\n",
       "  <tbody>\n",
       "    <tr>\n",
       "      <th>0</th>\n",
       "      <td>2020-12-01 08:26:00</td>\n",
       "      <td>17850.0</td>\n",
       "      <td>Dog and Puppy Pads</td>\n",
       "      <td>85123A</td>\n",
       "      <td>536365.0</td>\n",
       "      <td>1</td>\n",
       "      <td>15.30</td>\n",
       "      <td>15.30</td>\n",
       "    </tr>\n",
       "    <tr>\n",
       "      <th>1</th>\n",
       "      <td>2020-12-01 08:34:00</td>\n",
       "      <td>13047.0</td>\n",
       "      <td>Pet Odor Eliminator</td>\n",
       "      <td>84879</td>\n",
       "      <td>536367.0</td>\n",
       "      <td>6</td>\n",
       "      <td>60.84</td>\n",
       "      <td>10.14</td>\n",
       "    </tr>\n",
       "    <tr>\n",
       "      <th>2</th>\n",
       "      <td>2020-12-01 08:34:00</td>\n",
       "      <td>13047.0</td>\n",
       "      <td>Rechargeable Pet Nail Grinder</td>\n",
       "      <td>22960</td>\n",
       "      <td>536368.0</td>\n",
       "      <td>1</td>\n",
       "      <td>25.50</td>\n",
       "      <td>25.50</td>\n",
       "    </tr>\n",
       "    <tr>\n",
       "      <th>3</th>\n",
       "      <td>2020-12-01 09:00:00</td>\n",
       "      <td>13748.0</td>\n",
       "      <td>Litter Slide Multi-Cat Scented Clumping Clay C...</td>\n",
       "      <td>22086</td>\n",
       "      <td>536371.0</td>\n",
       "      <td>14</td>\n",
       "      <td>214.20</td>\n",
       "      <td>15.30</td>\n",
       "    </tr>\n",
       "    <tr>\n",
       "      <th>4</th>\n",
       "      <td>2020-12-01 09:02:00</td>\n",
       "      <td>17850.0</td>\n",
       "      <td>Dog and Puppy Pads</td>\n",
       "      <td>85123A</td>\n",
       "      <td>536373.0</td>\n",
       "      <td>1</td>\n",
       "      <td>15.30</td>\n",
       "      <td>15.30</td>\n",
       "    </tr>\n",
       "  </tbody>\n",
       "</table>\n",
       "</div>"
      ],
      "text/plain": [
       "     transaction_date  customer_id  \\\n",
       "0 2020-12-01 08:26:00      17850.0   \n",
       "1 2020-12-01 08:34:00      13047.0   \n",
       "2 2020-12-01 08:34:00      13047.0   \n",
       "3 2020-12-01 09:00:00      13748.0   \n",
       "4 2020-12-01 09:02:00      17850.0   \n",
       "\n",
       "                                         description stock_code  invoice_no  \\\n",
       "0                                 Dog and Puppy Pads     85123A    536365.0   \n",
       "1                                Pet Odor Eliminator      84879    536367.0   \n",
       "2                      Rechargeable Pet Nail Grinder      22960    536368.0   \n",
       "3  Litter Slide Multi-Cat Scented Clumping Clay C...      22086    536371.0   \n",
       "4                                 Dog and Puppy Pads     85123A    536373.0   \n",
       "\n",
       "   quantity   sales  unit_price  \n",
       "0         1   15.30       15.30  \n",
       "1         6   60.84       10.14  \n",
       "2         1   25.50       25.50  \n",
       "3        14  214.20       15.30  \n",
       "4         1   15.30       15.30  "
      ]
     },
     "execution_count": 6,
     "metadata": {},
     "output_type": "execute_result"
    }
   ],
   "source": [
    "df_sales.head()"
   ]
  },
  {
   "cell_type": "code",
   "execution_count": 7,
   "id": "7799f8fe",
   "metadata": {
    "scrolled": false
   },
   "outputs": [
    {
     "name": "stdout",
     "output_type": "stream",
     "text": [
      "DataFrame Shape: (25065, 8)\n",
      "\n"
     ]
    },
    {
     "data": {
      "text/html": [
       "<div>\n",
       "<style scoped>\n",
       "    .dataframe tbody tr th:only-of-type {\n",
       "        vertical-align: middle;\n",
       "    }\n",
       "\n",
       "    .dataframe tbody tr th {\n",
       "        vertical-align: top;\n",
       "    }\n",
       "\n",
       "    .dataframe thead th {\n",
       "        text-align: right;\n",
       "    }\n",
       "</style>\n",
       "<table border=\"1\" class=\"dataframe\">\n",
       "  <thead>\n",
       "    <tr style=\"text-align: right;\">\n",
       "      <th></th>\n",
       "      <th>Data Type</th>\n",
       "      <th>Count</th>\n",
       "      <th>Missing</th>\n",
       "      <th>Missing (%)</th>\n",
       "      <th>Mean</th>\n",
       "      <th>Min</th>\n",
       "      <th>Median</th>\n",
       "      <th>Max</th>\n",
       "      <th># Unique</th>\n",
       "    </tr>\n",
       "  </thead>\n",
       "  <tbody>\n",
       "    <tr>\n",
       "      <th>transaction_date</th>\n",
       "      <td>datetime64[ns]</td>\n",
       "      <td>25065</td>\n",
       "      <td>0</td>\n",
       "      <td>0.00</td>\n",
       "      <td>NaN</td>\n",
       "      <td>NaN</td>\n",
       "      <td>NaN</td>\n",
       "      <td>NaN</td>\n",
       "      <td>11408</td>\n",
       "    </tr>\n",
       "    <tr>\n",
       "      <th>customer_id</th>\n",
       "      <td>float64</td>\n",
       "      <td>20649</td>\n",
       "      <td>4416</td>\n",
       "      <td>17.62</td>\n",
       "      <td>15289.0</td>\n",
       "      <td>12347.0</td>\n",
       "      <td>15152.0</td>\n",
       "      <td>18287.0</td>\n",
       "      <td>3146</td>\n",
       "    </tr>\n",
       "    <tr>\n",
       "      <th>description</th>\n",
       "      <td>object</td>\n",
       "      <td>25065</td>\n",
       "      <td>0</td>\n",
       "      <td>0.00</td>\n",
       "      <td>NaN</td>\n",
       "      <td>NaN</td>\n",
       "      <td>NaN</td>\n",
       "      <td>NaN</td>\n",
       "      <td>21</td>\n",
       "    </tr>\n",
       "    <tr>\n",
       "      <th>stock_code</th>\n",
       "      <td>object</td>\n",
       "      <td>25065</td>\n",
       "      <td>0</td>\n",
       "      <td>0.00</td>\n",
       "      <td>NaN</td>\n",
       "      <td>NaN</td>\n",
       "      <td>NaN</td>\n",
       "      <td>NaN</td>\n",
       "      <td>20</td>\n",
       "    </tr>\n",
       "    <tr>\n",
       "      <th>invoice_no</th>\n",
       "      <td>float64</td>\n",
       "      <td>24404</td>\n",
       "      <td>661</td>\n",
       "      <td>2.64</td>\n",
       "      <td>559953.0</td>\n",
       "      <td>536365.0</td>\n",
       "      <td>560224.0</td>\n",
       "      <td>581585.0</td>\n",
       "      <td>11427</td>\n",
       "    </tr>\n",
       "    <tr>\n",
       "      <th>quantity</th>\n",
       "      <td>int64</td>\n",
       "      <td>25065</td>\n",
       "      <td>0</td>\n",
       "      <td>0.00</td>\n",
       "      <td>3.0</td>\n",
       "      <td>-321.0</td>\n",
       "      <td>1.0</td>\n",
       "      <td>717.0</td>\n",
       "      <td>108</td>\n",
       "    </tr>\n",
       "    <tr>\n",
       "      <th>sales</th>\n",
       "      <td>float64</td>\n",
       "      <td>25065</td>\n",
       "      <td>0</td>\n",
       "      <td>0.00</td>\n",
       "      <td>61.0</td>\n",
       "      <td>-4911.0</td>\n",
       "      <td>30.0</td>\n",
       "      <td>38970.0</td>\n",
       "      <td>610</td>\n",
       "    </tr>\n",
       "    <tr>\n",
       "      <th>unit_price</th>\n",
       "      <td>float64</td>\n",
       "      <td>25065</td>\n",
       "      <td>0</td>\n",
       "      <td>0.00</td>\n",
       "      <td>29.0</td>\n",
       "      <td>0.0</td>\n",
       "      <td>24.0</td>\n",
       "      <td>3897.0</td>\n",
       "      <td>101</td>\n",
       "    </tr>\n",
       "  </tbody>\n",
       "</table>\n",
       "</div>"
      ],
      "text/plain": [
       "                       Data Type  Count  Missing  Missing (%)      Mean  \\\n",
       "transaction_date  datetime64[ns]  25065        0         0.00       NaN   \n",
       "customer_id              float64  20649     4416        17.62   15289.0   \n",
       "description               object  25065        0         0.00       NaN   \n",
       "stock_code                object  25065        0         0.00       NaN   \n",
       "invoice_no               float64  24404      661         2.64  559953.0   \n",
       "quantity                   int64  25065        0         0.00       3.0   \n",
       "sales                    float64  25065        0         0.00      61.0   \n",
       "unit_price               float64  25065        0         0.00      29.0   \n",
       "\n",
       "                       Min    Median       Max  # Unique  \n",
       "transaction_date       NaN       NaN       NaN     11408  \n",
       "customer_id        12347.0   15152.0   18287.0      3146  \n",
       "description            NaN       NaN       NaN        21  \n",
       "stock_code             NaN       NaN       NaN        20  \n",
       "invoice_no        536365.0  560224.0  581585.0     11427  \n",
       "quantity            -321.0       1.0     717.0       108  \n",
       "sales              -4911.0      30.0   38970.0       610  \n",
       "unit_price             0.0      24.0    3897.0       101  "
      ]
     },
     "execution_count": 7,
     "metadata": {},
     "output_type": "execute_result"
    }
   ],
   "source": [
    "sales_details = df_details(df_sales)\n",
    "sales_details"
   ]
  },
  {
   "cell_type": "code",
   "execution_count": 8,
   "id": "d7f77ab7",
   "metadata": {},
   "outputs": [
    {
     "data": {
      "text/plain": [
       "(Timestamp('2020-12-01 08:26:00'), Timestamp('2021-12-09 12:31:00'))"
      ]
     },
     "execution_count": 8,
     "metadata": {},
     "output_type": "execute_result"
    }
   ],
   "source": [
    "df_sales.transaction_date.min(), df_sales.transaction_date.max()"
   ]
  },
  {
   "cell_type": "markdown",
   "id": "0b32e481",
   "metadata": {},
   "source": [
    "<b>SALES OBSERVATIONS:</b>\n",
    "\n",
    "- transaction_date:  Range is from Dec 1, 2020 - Dec 9, 2021, so approximately over a year of sales.\n",
    "- customer_id: Missing values and incorrect type\n",
    "- description: 21 unique products?\n",
    "- stock_code: 20 unique, should be the same number as description?\n",
    "- invoice_no: Missing values and incorrect type\n",
    "- Quantity min is -321 (assuming returns) and max is 717\n",
    "- Sales min is -4,911 (assuming returns) and max is 38,970"
   ]
  },
  {
   "cell_type": "markdown",
   "id": "813e3af3",
   "metadata": {},
   "source": [
    "### Customers Table"
   ]
  },
  {
   "cell_type": "code",
   "execution_count": 9,
   "id": "504cbda9",
   "metadata": {},
   "outputs": [
    {
     "data": {
      "text/html": [
       "<div>\n",
       "<style scoped>\n",
       "    .dataframe tbody tr th:only-of-type {\n",
       "        vertical-align: middle;\n",
       "    }\n",
       "\n",
       "    .dataframe tbody tr th {\n",
       "        vertical-align: top;\n",
       "    }\n",
       "\n",
       "    .dataframe thead th {\n",
       "        text-align: right;\n",
       "    }\n",
       "</style>\n",
       "<table border=\"1\" class=\"dataframe\">\n",
       "  <thead>\n",
       "    <tr style=\"text-align: right;\">\n",
       "      <th></th>\n",
       "      <th>customer_id</th>\n",
       "      <th>order_city</th>\n",
       "      <th>order_postal</th>\n",
       "      <th>order_state</th>\n",
       "      <th>latitude</th>\n",
       "      <th>longitude</th>\n",
       "    </tr>\n",
       "  </thead>\n",
       "  <tbody>\n",
       "    <tr>\n",
       "      <th>0</th>\n",
       "      <td>18287</td>\n",
       "      <td>Rock Springs</td>\n",
       "      <td>82901-7321</td>\n",
       "      <td>WY</td>\n",
       "      <td>41.5869</td>\n",
       "      <td>-109.2048</td>\n",
       "    </tr>\n",
       "    <tr>\n",
       "      <th>1</th>\n",
       "      <td>18283</td>\n",
       "      <td>JACKSON</td>\n",
       "      <td>83001-9460</td>\n",
       "      <td>WY</td>\n",
       "      <td>43.4800</td>\n",
       "      <td>-110.7618</td>\n",
       "    </tr>\n",
       "    <tr>\n",
       "      <th>2</th>\n",
       "      <td>18282</td>\n",
       "      <td>Greybull</td>\n",
       "      <td>82426</td>\n",
       "      <td>WY</td>\n",
       "      <td>44.4892</td>\n",
       "      <td>-108.0562</td>\n",
       "    </tr>\n",
       "    <tr>\n",
       "      <th>3</th>\n",
       "      <td>18281</td>\n",
       "      <td>EVANSTON</td>\n",
       "      <td>82930-4706</td>\n",
       "      <td>WY</td>\n",
       "      <td>41.2680</td>\n",
       "      <td>-110.9633</td>\n",
       "    </tr>\n",
       "    <tr>\n",
       "      <th>4</th>\n",
       "      <td>18280</td>\n",
       "      <td>CHEYENNE</td>\n",
       "      <td>82001-7901</td>\n",
       "      <td>WY</td>\n",
       "      <td>41.1400</td>\n",
       "      <td>-104.8202</td>\n",
       "    </tr>\n",
       "  </tbody>\n",
       "</table>\n",
       "</div>"
      ],
      "text/plain": [
       "   customer_id    order_city order_postal order_state  latitude  longitude\n",
       "0        18287  Rock Springs   82901-7321          WY   41.5869  -109.2048\n",
       "1        18283       JACKSON   83001-9460          WY   43.4800  -110.7618\n",
       "2        18282      Greybull        82426          WY   44.4892  -108.0562\n",
       "3        18281      EVANSTON   82930-4706          WY   41.2680  -110.9633\n",
       "4        18280      CHEYENNE   82001-7901          WY   41.1400  -104.8202"
      ]
     },
     "execution_count": 9,
     "metadata": {},
     "output_type": "execute_result"
    }
   ],
   "source": [
    "df_customers.head()"
   ]
  },
  {
   "cell_type": "code",
   "execution_count": 10,
   "id": "ad956827",
   "metadata": {},
   "outputs": [
    {
     "name": "stdout",
     "output_type": "stream",
     "text": [
      "DataFrame Shape: (4372, 6)\n",
      "\n"
     ]
    },
    {
     "data": {
      "text/html": [
       "<div>\n",
       "<style scoped>\n",
       "    .dataframe tbody tr th:only-of-type {\n",
       "        vertical-align: middle;\n",
       "    }\n",
       "\n",
       "    .dataframe tbody tr th {\n",
       "        vertical-align: top;\n",
       "    }\n",
       "\n",
       "    .dataframe thead th {\n",
       "        text-align: right;\n",
       "    }\n",
       "</style>\n",
       "<table border=\"1\" class=\"dataframe\">\n",
       "  <thead>\n",
       "    <tr style=\"text-align: right;\">\n",
       "      <th></th>\n",
       "      <th>Data Type</th>\n",
       "      <th>Count</th>\n",
       "      <th>Missing</th>\n",
       "      <th>Missing (%)</th>\n",
       "      <th>Mean</th>\n",
       "      <th>Min</th>\n",
       "      <th>Median</th>\n",
       "      <th>Max</th>\n",
       "      <th># Unique</th>\n",
       "    </tr>\n",
       "  </thead>\n",
       "  <tbody>\n",
       "    <tr>\n",
       "      <th>customer_id</th>\n",
       "      <td>int64</td>\n",
       "      <td>4372</td>\n",
       "      <td>0</td>\n",
       "      <td>0.00</td>\n",
       "      <td>15300.0</td>\n",
       "      <td>12346.0</td>\n",
       "      <td>15300.0</td>\n",
       "      <td>18287.0</td>\n",
       "      <td>4372</td>\n",
       "    </tr>\n",
       "    <tr>\n",
       "      <th>order_city</th>\n",
       "      <td>object</td>\n",
       "      <td>4372</td>\n",
       "      <td>0</td>\n",
       "      <td>0.00</td>\n",
       "      <td>NaN</td>\n",
       "      <td>NaN</td>\n",
       "      <td>NaN</td>\n",
       "      <td>NaN</td>\n",
       "      <td>2665</td>\n",
       "    </tr>\n",
       "    <tr>\n",
       "      <th>order_postal</th>\n",
       "      <td>object</td>\n",
       "      <td>4372</td>\n",
       "      <td>0</td>\n",
       "      <td>0.00</td>\n",
       "      <td>NaN</td>\n",
       "      <td>NaN</td>\n",
       "      <td>NaN</td>\n",
       "      <td>NaN</td>\n",
       "      <td>4253</td>\n",
       "    </tr>\n",
       "    <tr>\n",
       "      <th>order_state</th>\n",
       "      <td>object</td>\n",
       "      <td>4372</td>\n",
       "      <td>0</td>\n",
       "      <td>0.00</td>\n",
       "      <td>NaN</td>\n",
       "      <td>NaN</td>\n",
       "      <td>NaN</td>\n",
       "      <td>NaN</td>\n",
       "      <td>212</td>\n",
       "    </tr>\n",
       "    <tr>\n",
       "      <th>latitude</th>\n",
       "      <td>float64</td>\n",
       "      <td>4274</td>\n",
       "      <td>98</td>\n",
       "      <td>2.24</td>\n",
       "      <td>38.0</td>\n",
       "      <td>18.0</td>\n",
       "      <td>39.0</td>\n",
       "      <td>61.0</td>\n",
       "      <td>2407</td>\n",
       "    </tr>\n",
       "    <tr>\n",
       "      <th>longitude</th>\n",
       "      <td>float64</td>\n",
       "      <td>4274</td>\n",
       "      <td>98</td>\n",
       "      <td>2.24</td>\n",
       "      <td>-92.0</td>\n",
       "      <td>-158.0</td>\n",
       "      <td>-87.0</td>\n",
       "      <td>-66.0</td>\n",
       "      <td>2417</td>\n",
       "    </tr>\n",
       "  </tbody>\n",
       "</table>\n",
       "</div>"
      ],
      "text/plain": [
       "             Data Type  Count  Missing  Missing (%)     Mean      Min  \\\n",
       "customer_id      int64   4372        0         0.00  15300.0  12346.0   \n",
       "order_city      object   4372        0         0.00      NaN      NaN   \n",
       "order_postal    object   4372        0         0.00      NaN      NaN   \n",
       "order_state     object   4372        0         0.00      NaN      NaN   \n",
       "latitude       float64   4274       98         2.24     38.0     18.0   \n",
       "longitude      float64   4274       98         2.24    -92.0   -158.0   \n",
       "\n",
       "               Median      Max  # Unique  \n",
       "customer_id   15300.0  18287.0      4372  \n",
       "order_city        NaN      NaN      2665  \n",
       "order_postal      NaN      NaN      4253  \n",
       "order_state       NaN      NaN       212  \n",
       "latitude         39.0     61.0      2407  \n",
       "longitude       -87.0    -66.0      2417  "
      ]
     },
     "execution_count": 10,
     "metadata": {},
     "output_type": "execute_result"
    }
   ],
   "source": [
    "customers_details = df_details(df_customers)\n",
    "customers_details"
   ]
  },
  {
   "cell_type": "markdown",
   "id": "805a8586",
   "metadata": {},
   "source": [
    "<b>CUSTOMERS OBSERVATIONS:</b>\n",
    "\n",
    "- customer_id: There seems to be no duplicate values\n",
    "    - This will be the KEY to join with sales table\n",
    "- order_city: Need to check formatting/standardization\n",
    "- order_postal: Need to check formatting/standardization\n",
    "- order_state: Assuming this is US sales, why do we have 212 unique values? Probably a formatting issue\n",
    "- latitude/longitude: Missing 98 values"
   ]
  },
  {
   "cell_type": "markdown",
   "id": "b4ddc2a8",
   "metadata": {},
   "source": [
    "### Products Table"
   ]
  },
  {
   "cell_type": "code",
   "execution_count": 11,
   "id": "0c2100e8",
   "metadata": {},
   "outputs": [
    {
     "data": {
      "text/html": [
       "<div>\n",
       "<style scoped>\n",
       "    .dataframe tbody tr th:only-of-type {\n",
       "        vertical-align: middle;\n",
       "    }\n",
       "\n",
       "    .dataframe tbody tr th {\n",
       "        vertical-align: top;\n",
       "    }\n",
       "\n",
       "    .dataframe thead th {\n",
       "        text-align: right;\n",
       "    }\n",
       "</style>\n",
       "<table border=\"1\" class=\"dataframe\">\n",
       "  <thead>\n",
       "    <tr style=\"text-align: right;\">\n",
       "      <th></th>\n",
       "      <th>stock_code</th>\n",
       "      <th>weight</th>\n",
       "      <th>landed_cost</th>\n",
       "      <th>shipping_cost_1000_mile</th>\n",
       "      <th>description</th>\n",
       "      <th>category</th>\n",
       "    </tr>\n",
       "  </thead>\n",
       "  <tbody>\n",
       "    <tr>\n",
       "      <th>0</th>\n",
       "      <td>22423</td>\n",
       "      <td>40.0</td>\n",
       "      <td>35.0</td>\n",
       "      <td>20.0</td>\n",
       "      <td>Taste of the Wild High Prairie Grain-Free Dry ...</td>\n",
       "      <td>Food</td>\n",
       "    </tr>\n",
       "    <tr>\n",
       "      <th>1</th>\n",
       "      <td>85123A</td>\n",
       "      <td>2.0</td>\n",
       "      <td>6.0</td>\n",
       "      <td>5.0</td>\n",
       "      <td>Dog and Puppy Pads</td>\n",
       "      <td>Disposables</td>\n",
       "    </tr>\n",
       "    <tr>\n",
       "      <th>2</th>\n",
       "      <td>47566</td>\n",
       "      <td>6.0</td>\n",
       "      <td>18.0</td>\n",
       "      <td>12.0</td>\n",
       "      <td>Memory Foam Pet Beds for Small, Medium, and La...</td>\n",
       "      <td>Disposables</td>\n",
       "    </tr>\n",
       "    <tr>\n",
       "      <th>3</th>\n",
       "      <td>85099B</td>\n",
       "      <td>2.0</td>\n",
       "      <td>5.0</td>\n",
       "      <td>4.0</td>\n",
       "      <td>Earth Rated Dog Poop Bags</td>\n",
       "      <td>Disposables</td>\n",
       "    </tr>\n",
       "    <tr>\n",
       "      <th>4</th>\n",
       "      <td>23084</td>\n",
       "      <td>2.0</td>\n",
       "      <td>6.0</td>\n",
       "      <td>6.0</td>\n",
       "      <td>Templation Soft Cat Treats</td>\n",
       "      <td>Pet Food</td>\n",
       "    </tr>\n",
       "  </tbody>\n",
       "</table>\n",
       "</div>"
      ],
      "text/plain": [
       "  stock_code  weight  landed_cost  shipping_cost_1000_mile  \\\n",
       "0      22423    40.0         35.0                     20.0   \n",
       "1     85123A     2.0          6.0                      5.0   \n",
       "2      47566     6.0         18.0                     12.0   \n",
       "3     85099B     2.0          5.0                      4.0   \n",
       "4      23084     2.0          6.0                      6.0   \n",
       "\n",
       "                                         description     category  \n",
       "0  Taste of the Wild High Prairie Grain-Free Dry ...         Food  \n",
       "1                                 Dog and Puppy Pads  Disposables  \n",
       "2  Memory Foam Pet Beds for Small, Medium, and La...  Disposables  \n",
       "3                          Earth Rated Dog Poop Bags  Disposables  \n",
       "4                         Templation Soft Cat Treats     Pet Food  "
      ]
     },
     "execution_count": 11,
     "metadata": {},
     "output_type": "execute_result"
    }
   ],
   "source": [
    "df_products.head()"
   ]
  },
  {
   "cell_type": "code",
   "execution_count": 12,
   "id": "ebfb5dde",
   "metadata": {},
   "outputs": [
    {
     "name": "stdout",
     "output_type": "stream",
     "text": [
      "DataFrame Shape: (20, 6)\n",
      "\n"
     ]
    },
    {
     "data": {
      "text/html": [
       "<div>\n",
       "<style scoped>\n",
       "    .dataframe tbody tr th:only-of-type {\n",
       "        vertical-align: middle;\n",
       "    }\n",
       "\n",
       "    .dataframe tbody tr th {\n",
       "        vertical-align: top;\n",
       "    }\n",
       "\n",
       "    .dataframe thead th {\n",
       "        text-align: right;\n",
       "    }\n",
       "</style>\n",
       "<table border=\"1\" class=\"dataframe\">\n",
       "  <thead>\n",
       "    <tr style=\"text-align: right;\">\n",
       "      <th></th>\n",
       "      <th>Data Type</th>\n",
       "      <th>Count</th>\n",
       "      <th>Missing</th>\n",
       "      <th>Missing (%)</th>\n",
       "      <th>Mean</th>\n",
       "      <th>Min</th>\n",
       "      <th>Median</th>\n",
       "      <th>Max</th>\n",
       "      <th># Unique</th>\n",
       "    </tr>\n",
       "  </thead>\n",
       "  <tbody>\n",
       "    <tr>\n",
       "      <th>stock_code</th>\n",
       "      <td>object</td>\n",
       "      <td>20</td>\n",
       "      <td>0</td>\n",
       "      <td>0.0</td>\n",
       "      <td>NaN</td>\n",
       "      <td>NaN</td>\n",
       "      <td>NaN</td>\n",
       "      <td>NaN</td>\n",
       "      <td>20</td>\n",
       "    </tr>\n",
       "    <tr>\n",
       "      <th>weight</th>\n",
       "      <td>float64</td>\n",
       "      <td>20</td>\n",
       "      <td>0</td>\n",
       "      <td>0.0</td>\n",
       "      <td>5.0</td>\n",
       "      <td>0.0</td>\n",
       "      <td>2.0</td>\n",
       "      <td>40.0</td>\n",
       "      <td>9</td>\n",
       "    </tr>\n",
       "    <tr>\n",
       "      <th>landed_cost</th>\n",
       "      <td>float64</td>\n",
       "      <td>20</td>\n",
       "      <td>0</td>\n",
       "      <td>0.0</td>\n",
       "      <td>14.0</td>\n",
       "      <td>2.0</td>\n",
       "      <td>10.0</td>\n",
       "      <td>36.0</td>\n",
       "      <td>15</td>\n",
       "    </tr>\n",
       "    <tr>\n",
       "      <th>shipping_cost_1000_mile</th>\n",
       "      <td>float64</td>\n",
       "      <td>20</td>\n",
       "      <td>0</td>\n",
       "      <td>0.0</td>\n",
       "      <td>7.0</td>\n",
       "      <td>2.0</td>\n",
       "      <td>6.0</td>\n",
       "      <td>20.0</td>\n",
       "      <td>9</td>\n",
       "    </tr>\n",
       "    <tr>\n",
       "      <th>description</th>\n",
       "      <td>object</td>\n",
       "      <td>20</td>\n",
       "      <td>0</td>\n",
       "      <td>0.0</td>\n",
       "      <td>NaN</td>\n",
       "      <td>NaN</td>\n",
       "      <td>NaN</td>\n",
       "      <td>NaN</td>\n",
       "      <td>20</td>\n",
       "    </tr>\n",
       "    <tr>\n",
       "      <th>category</th>\n",
       "      <td>object</td>\n",
       "      <td>20</td>\n",
       "      <td>0</td>\n",
       "      <td>0.0</td>\n",
       "      <td>NaN</td>\n",
       "      <td>NaN</td>\n",
       "      <td>NaN</td>\n",
       "      <td>NaN</td>\n",
       "      <td>7</td>\n",
       "    </tr>\n",
       "  </tbody>\n",
       "</table>\n",
       "</div>"
      ],
      "text/plain": [
       "                        Data Type  Count  Missing  Missing (%)  Mean  Min  \\\n",
       "stock_code                 object     20        0          0.0   NaN  NaN   \n",
       "weight                    float64     20        0          0.0   5.0  0.0   \n",
       "landed_cost               float64     20        0          0.0  14.0  2.0   \n",
       "shipping_cost_1000_mile   float64     20        0          0.0   7.0  2.0   \n",
       "description                object     20        0          0.0   NaN  NaN   \n",
       "category                   object     20        0          0.0   NaN  NaN   \n",
       "\n",
       "                         Median   Max  # Unique  \n",
       "stock_code                  NaN   NaN        20  \n",
       "weight                      2.0  40.0         9  \n",
       "landed_cost                10.0  36.0        15  \n",
       "shipping_cost_1000_mile     6.0  20.0         9  \n",
       "description                 NaN   NaN        20  \n",
       "category                    NaN   NaN         7  "
      ]
     },
     "execution_count": 12,
     "metadata": {},
     "output_type": "execute_result"
    }
   ],
   "source": [
    "products_details = df_details(df_products)\n",
    "products_details"
   ]
  },
  {
   "cell_type": "markdown",
   "id": "3e8c07df",
   "metadata": {},
   "source": [
    "<b>PRODUCTS OBSERVATIONS:</b>\n",
    "\n",
    "- stock_code: 20 unique values, same value as description\n",
    "    - This will be the KEY to join with sales table\n",
    "- weigth: 9 unique values ranging from 0 - 40, if whole numbers change to int\n",
    "- landed_cost: 15 unique values ranging from 2 - 36, if whole numbers change to int\n",
    "- shipping_cost_1000_mile: 9 unique values ranging from 2 - 20, if whole numbers change to int\n",
    "    - Same unique values as weight, compare to see if they are related\n",
    "- description: 20 unique values, inline with stock_code\n",
    "- category: 7 unique values"
   ]
  },
  {
   "cell_type": "markdown",
   "id": "aae03b85",
   "metadata": {},
   "source": [
    "### State Region table"
   ]
  },
  {
   "cell_type": "code",
   "execution_count": 13,
   "id": "0611666e",
   "metadata": {},
   "outputs": [
    {
     "data": {
      "text/html": [
       "<div>\n",
       "<style scoped>\n",
       "    .dataframe tbody tr th:only-of-type {\n",
       "        vertical-align: middle;\n",
       "    }\n",
       "\n",
       "    .dataframe tbody tr th {\n",
       "        vertical-align: top;\n",
       "    }\n",
       "\n",
       "    .dataframe thead th {\n",
       "        text-align: right;\n",
       "    }\n",
       "</style>\n",
       "<table border=\"1\" class=\"dataframe\">\n",
       "  <thead>\n",
       "    <tr style=\"text-align: right;\">\n",
       "      <th></th>\n",
       "      <th>order_state</th>\n",
       "      <th>state</th>\n",
       "      <th>region</th>\n",
       "    </tr>\n",
       "  </thead>\n",
       "  <tbody>\n",
       "    <tr>\n",
       "      <th>0</th>\n",
       "      <td>AE</td>\n",
       "      <td>AE</td>\n",
       "      <td>Other</td>\n",
       "    </tr>\n",
       "    <tr>\n",
       "      <th>1</th>\n",
       "      <td>ak</td>\n",
       "      <td>AK</td>\n",
       "      <td>Other</td>\n",
       "    </tr>\n",
       "    <tr>\n",
       "      <th>2</th>\n",
       "      <td>AK</td>\n",
       "      <td>AK</td>\n",
       "      <td>Other</td>\n",
       "    </tr>\n",
       "    <tr>\n",
       "      <th>3</th>\n",
       "      <td>AL</td>\n",
       "      <td>AL</td>\n",
       "      <td>East</td>\n",
       "    </tr>\n",
       "    <tr>\n",
       "      <th>4</th>\n",
       "      <td>ALABAMA</td>\n",
       "      <td>AL</td>\n",
       "      <td>East</td>\n",
       "    </tr>\n",
       "  </tbody>\n",
       "</table>\n",
       "</div>"
      ],
      "text/plain": [
       "  order_state state region\n",
       "0          AE    AE  Other\n",
       "1          ak    AK  Other\n",
       "2          AK    AK  Other\n",
       "3          AL    AL   East\n",
       "4     ALABAMA    AL   East"
      ]
     },
     "execution_count": 13,
     "metadata": {},
     "output_type": "execute_result"
    }
   ],
   "source": [
    "df_state_region.head()"
   ]
  },
  {
   "cell_type": "code",
   "execution_count": 14,
   "id": "ba4d4b9e",
   "metadata": {
    "scrolled": true
   },
   "outputs": [
    {
     "name": "stdout",
     "output_type": "stream",
     "text": [
      "DataFrame Shape: (192, 3)\n",
      "\n"
     ]
    },
    {
     "data": {
      "text/html": [
       "<div>\n",
       "<style scoped>\n",
       "    .dataframe tbody tr th:only-of-type {\n",
       "        vertical-align: middle;\n",
       "    }\n",
       "\n",
       "    .dataframe tbody tr th {\n",
       "        vertical-align: top;\n",
       "    }\n",
       "\n",
       "    .dataframe thead th {\n",
       "        text-align: right;\n",
       "    }\n",
       "</style>\n",
       "<table border=\"1\" class=\"dataframe\">\n",
       "  <thead>\n",
       "    <tr style=\"text-align: right;\">\n",
       "      <th></th>\n",
       "      <th>Data Type</th>\n",
       "      <th>Count</th>\n",
       "      <th>Missing</th>\n",
       "      <th>Missing (%)</th>\n",
       "      <th>Mean</th>\n",
       "      <th>Min</th>\n",
       "      <th>Median</th>\n",
       "      <th>Max</th>\n",
       "      <th># Unique</th>\n",
       "    </tr>\n",
       "  </thead>\n",
       "  <tbody>\n",
       "    <tr>\n",
       "      <th>order_state</th>\n",
       "      <td>object</td>\n",
       "      <td>192</td>\n",
       "      <td>0</td>\n",
       "      <td>0.0</td>\n",
       "      <td>NaN</td>\n",
       "      <td>NaN</td>\n",
       "      <td>NaN</td>\n",
       "      <td>NaN</td>\n",
       "      <td>192</td>\n",
       "    </tr>\n",
       "    <tr>\n",
       "      <th>state</th>\n",
       "      <td>object</td>\n",
       "      <td>192</td>\n",
       "      <td>0</td>\n",
       "      <td>0.0</td>\n",
       "      <td>NaN</td>\n",
       "      <td>NaN</td>\n",
       "      <td>NaN</td>\n",
       "      <td>NaN</td>\n",
       "      <td>54</td>\n",
       "    </tr>\n",
       "    <tr>\n",
       "      <th>region</th>\n",
       "      <td>object</td>\n",
       "      <td>192</td>\n",
       "      <td>0</td>\n",
       "      <td>0.0</td>\n",
       "      <td>NaN</td>\n",
       "      <td>NaN</td>\n",
       "      <td>NaN</td>\n",
       "      <td>NaN</td>\n",
       "      <td>4</td>\n",
       "    </tr>\n",
       "  </tbody>\n",
       "</table>\n",
       "</div>"
      ],
      "text/plain": [
       "            Data Type  Count  Missing  Missing (%)  Mean  Min  Median  Max  \\\n",
       "order_state    object    192        0          0.0   NaN  NaN     NaN  NaN   \n",
       "state          object    192        0          0.0   NaN  NaN     NaN  NaN   \n",
       "region         object    192        0          0.0   NaN  NaN     NaN  NaN   \n",
       "\n",
       "             # Unique  \n",
       "order_state       192  \n",
       "state              54  \n",
       "region              4  "
      ]
     },
     "execution_count": 14,
     "metadata": {},
     "output_type": "execute_result"
    }
   ],
   "source": [
    "state_details = df_details(df_state_region)\n",
    "state_details"
   ]
  },
  {
   "cell_type": "markdown",
   "id": "58927b71",
   "metadata": {},
   "source": [
    "<b>STATE REGION OBSERVATIONS:</b>\n",
    "\n",
    "- order_state: 192 unique values, need to check formatting/standardization\n",
    "    - This will be the KEY to join with Customers table\n",
    "- state: 54 unique values, need to check\n",
    "- region: 4 unique values"
   ]
  },
  {
   "cell_type": "markdown",
   "id": "d967de89",
   "metadata": {},
   "source": [
    "Now that we have a basic understanding on the tables and their relationships, let's proceed to clean the data so we can join them later for EDA."
   ]
  },
  {
   "cell_type": "markdown",
   "id": "d2fedcb4",
   "metadata": {},
   "source": [
    "### DATA CLEANING - SALES"
   ]
  },
  {
   "cell_type": "code",
   "execution_count": 15,
   "id": "09e16420",
   "metadata": {},
   "outputs": [
    {
     "data": {
      "text/plain": [
       "498"
      ]
     },
     "execution_count": 15,
     "metadata": {},
     "output_type": "execute_result"
    }
   ],
   "source": [
    "# How many records do we have where sales = 0, those don't provide value to our sales analysis\n",
    "df_sales[df_sales.sales==0]['customer_id'].count()"
   ]
  },
  {
   "cell_type": "code",
   "execution_count": 16,
   "id": "90c04104",
   "metadata": {},
   "outputs": [],
   "source": [
    "# We'll drop those records\n",
    "df_sales = df_sales[df_sales.sales != 0]"
   ]
  },
  {
   "cell_type": "markdown",
   "id": "44f7e2c6",
   "metadata": {},
   "source": [
    "#### Sales - customer_id"
   ]
  },
  {
   "cell_type": "code",
   "execution_count": 17,
   "id": "22e12340",
   "metadata": {},
   "outputs": [
    {
     "data": {
      "text/plain": [
       "0"
      ]
     },
     "execution_count": 17,
     "metadata": {},
     "output_type": "execute_result"
    }
   ],
   "source": [
    "# Checking if we have any of null customer ids with invoice that we could map\n",
    "missing_customers = df_sales[df_sales.customer_id.isnull()].groupby('invoice_no')['customer_id'].count().to_list()\n",
    "missing_customers[missing_customers != 0]"
   ]
  },
  {
   "cell_type": "code",
   "execution_count": 18,
   "id": "f496d844",
   "metadata": {},
   "outputs": [],
   "source": [
    "# Converting column to string\n",
    "df_sales.customer_id = df_sales.customer_id.astype('str')"
   ]
  },
  {
   "cell_type": "code",
   "execution_count": 19,
   "id": "0f65f9c3",
   "metadata": {},
   "outputs": [],
   "source": [
    "# If customer_id = 'nan' we'll do Guest_invoice_no\n",
    "# If not we'll return the customer_id and remove the '.0'\n",
    "df_sales.customer_id = df_sales.apply(lambda row: 'Guest_' + str(row['invoice_no'])[:6] \\\n",
    "                      if (row['customer_id'] == 'nan') else row['customer_id'][:5], axis=1)"
   ]
  },
  {
   "cell_type": "code",
   "execution_count": 20,
   "id": "c7d4005e",
   "metadata": {},
   "outputs": [
    {
     "data": {
      "text/html": [
       "<div>\n",
       "<style scoped>\n",
       "    .dataframe tbody tr th:only-of-type {\n",
       "        vertical-align: middle;\n",
       "    }\n",
       "\n",
       "    .dataframe tbody tr th {\n",
       "        vertical-align: top;\n",
       "    }\n",
       "\n",
       "    .dataframe thead th {\n",
       "        text-align: right;\n",
       "    }\n",
       "</style>\n",
       "<table border=\"1\" class=\"dataframe\">\n",
       "  <thead>\n",
       "    <tr style=\"text-align: right;\">\n",
       "      <th></th>\n",
       "      <th>transaction_date</th>\n",
       "      <th>customer_id</th>\n",
       "      <th>description</th>\n",
       "      <th>stock_code</th>\n",
       "      <th>invoice_no</th>\n",
       "      <th>quantity</th>\n",
       "      <th>sales</th>\n",
       "      <th>unit_price</th>\n",
       "    </tr>\n",
       "  </thead>\n",
       "  <tbody>\n",
       "    <tr>\n",
       "      <th>53</th>\n",
       "      <td>2020-12-01 12:36:00</td>\n",
       "      <td>16552</td>\n",
       "      <td>Taste of the Wild High Prairie Grain-Free Dry ...</td>\n",
       "      <td>22423</td>\n",
       "      <td>536502.0</td>\n",
       "      <td>1</td>\n",
       "      <td>76.50</td>\n",
       "      <td>76.50</td>\n",
       "    </tr>\n",
       "    <tr>\n",
       "      <th>183</th>\n",
       "      <td>2020-12-02 15:46:00</td>\n",
       "      <td>15574</td>\n",
       "      <td>Pet Odor Eliminator</td>\n",
       "      <td>84879</td>\n",
       "      <td>536796.0</td>\n",
       "      <td>1</td>\n",
       "      <td>10.14</td>\n",
       "      <td>10.14</td>\n",
       "    </tr>\n",
       "    <tr>\n",
       "      <th>284</th>\n",
       "      <td>2020-12-03 17:20:00</td>\n",
       "      <td>13081</td>\n",
       "      <td>Sheba Perfect Portions Pat Wet Cat Food</td>\n",
       "      <td>22197</td>\n",
       "      <td>537034.0</td>\n",
       "      <td>4</td>\n",
       "      <td>20.40</td>\n",
       "      <td>5.10</td>\n",
       "    </tr>\n",
       "    <tr>\n",
       "      <th>5928</th>\n",
       "      <td>2021-04-01 13:20:00</td>\n",
       "      <td>12949</td>\n",
       "      <td>Taste of the Wild High Prairie Grain-Free Dry ...</td>\n",
       "      <td>22423</td>\n",
       "      <td>548648.0</td>\n",
       "      <td>1</td>\n",
       "      <td>76.50</td>\n",
       "      <td>76.50</td>\n",
       "    </tr>\n",
       "    <tr>\n",
       "      <th>6976</th>\n",
       "      <td>2021-04-21 12:07:00</td>\n",
       "      <td>13505</td>\n",
       "      <td>Taste of the Wild High Prairie Grain-Free Dry ...</td>\n",
       "      <td>22423</td>\n",
       "      <td>550899.0</td>\n",
       "      <td>1</td>\n",
       "      <td>76.50</td>\n",
       "      <td>76.50</td>\n",
       "    </tr>\n",
       "  </tbody>\n",
       "</table>\n",
       "</div>"
      ],
      "text/plain": [
       "        transaction_date customer_id  \\\n",
       "53   2020-12-01 12:36:00       16552   \n",
       "183  2020-12-02 15:46:00       15574   \n",
       "284  2020-12-03 17:20:00       13081   \n",
       "5928 2021-04-01 13:20:00       12949   \n",
       "6976 2021-04-21 12:07:00       13505   \n",
       "\n",
       "                                            description stock_code  \\\n",
       "53    Taste of the Wild High Prairie Grain-Free Dry ...      22423   \n",
       "183                                 Pet Odor Eliminator      84879   \n",
       "284             Sheba Perfect Portions Pat Wet Cat Food      22197   \n",
       "5928  Taste of the Wild High Prairie Grain-Free Dry ...      22423   \n",
       "6976  Taste of the Wild High Prairie Grain-Free Dry ...      22423   \n",
       "\n",
       "      invoice_no  quantity  sales  unit_price  \n",
       "53      536502.0         1  76.50       76.50  \n",
       "183     536796.0         1  10.14       10.14  \n",
       "284     537034.0         4  20.40        5.10  \n",
       "5928    548648.0         1  76.50       76.50  \n",
       "6976    550899.0         1  76.50       76.50  "
      ]
     },
     "execution_count": 20,
     "metadata": {},
     "output_type": "execute_result"
    }
   ],
   "source": [
    "# Checking that it worked\n",
    "df_sales.sample(5)"
   ]
  },
  {
   "cell_type": "markdown",
   "id": "25117a26",
   "metadata": {},
   "source": [
    "#### Sales - description"
   ]
  },
  {
   "cell_type": "code",
   "execution_count": 21,
   "id": "129cd307",
   "metadata": {},
   "outputs": [
    {
     "name": "stdout",
     "output_type": "stream",
     "text": [
      "Sheba Perfect Portions Pat Wet Cat Food\n",
      "Indoor Pet Camera (Wi-Fi)\n"
     ]
    }
   ],
   "source": [
    "# Descriptions that are in SALES, but not in PRODUCT\n",
    "for item in df_sales.description.unique():\n",
    "    if item not in df_products.description.unique():\n",
    "        print(item)"
   ]
  },
  {
   "cell_type": "code",
   "execution_count": 22,
   "id": "f7ceed2d",
   "metadata": {},
   "outputs": [
    {
     "data": {
      "text/plain": [
       "1413"
      ]
     },
     "execution_count": 22,
     "metadata": {},
     "output_type": "execute_result"
    }
   ],
   "source": [
    "df_sales[df_sales.description == 'Sheba Perfect Portions Pat Wet Cat Food']['description'].count()\n",
    "# On PRODUCTS: Sheba Perfect Portions Paté Wet Cat Food"
   ]
  },
  {
   "cell_type": "code",
   "execution_count": 23,
   "id": "b389a054",
   "metadata": {},
   "outputs": [
    {
     "data": {
      "text/plain": [
       "52"
      ]
     },
     "execution_count": 23,
     "metadata": {},
     "output_type": "execute_result"
    }
   ],
   "source": [
    "df_sales[df_sales.description == 'Indoor Pet Camera (Wi-Fi)']['description'].count()\n",
    "# On PRODUCTS: Indoor Pet Camera"
   ]
  },
  {
   "cell_type": "code",
   "execution_count": 24,
   "id": "0f530ca0",
   "metadata": {},
   "outputs": [
    {
     "name": "stdout",
     "output_type": "stream",
     "text": [
      "Sheba Perfect Portions Paté Wet Cat Food\n"
     ]
    }
   ],
   "source": [
    "# Descriptions that are in PRODUCTS, but not in SALES\n",
    "for item in df_products.description.unique():\n",
    "    if item not in df_sales.description.unique():\n",
    "        print(item)"
   ]
  },
  {
   "cell_type": "code",
   "execution_count": 25,
   "id": "31dd8444",
   "metadata": {},
   "outputs": [
    {
     "data": {
      "text/plain": [
       "0"
      ]
     },
     "execution_count": 25,
     "metadata": {},
     "output_type": "execute_result"
    }
   ],
   "source": [
    "df_sales[df_sales.description == 'Sheba Perfect Portions Paté Wet Cat Food']['description'].count()"
   ]
  },
  {
   "cell_type": "code",
   "execution_count": 26,
   "id": "fbf0fc9a",
   "metadata": {},
   "outputs": [
    {
     "data": {
      "text/plain": [
       "413"
      ]
     },
     "execution_count": 26,
     "metadata": {},
     "output_type": "execute_result"
    }
   ],
   "source": [
    "df_sales[df_sales.description == 'Indoor Pet Camera']['description'].count()"
   ]
  },
  {
   "cell_type": "markdown",
   "id": "320a191e",
   "metadata": {},
   "source": [
    "NOTES: \n",
    "<br>There are 2 descriptions in SALES that are not in PRODUCTS\n",
    "\n",
    "<br>Sales has:\n",
    "<br>- 1413 sales with 'Sheba Perfect Portions Pat Wet Cat Food'\n",
    "<br>- 0 sales with 'Sheba Perfect Portions Paté Wet Cat Food'\n",
    "\n",
    "<br>Sales has:\n",
    "<br>- 52 sales with 'Indoor Pet Camera (Wi-Fi)'\n",
    "<br>- 413 sales with 'Indoor Pet Camera'"
   ]
  },
  {
   "cell_type": "code",
   "execution_count": 27,
   "id": "3bf23bfa",
   "metadata": {},
   "outputs": [],
   "source": [
    "# Replacing descriptions with correct name from PRODUCTS\n",
    "df_sales.loc[df_sales.description == 'Sheba Perfect Portions Pat Wet Cat Food','description'] = \\\n",
    "'Sheba Perfect Portions Paté Wet Cat Food'"
   ]
  },
  {
   "cell_type": "code",
   "execution_count": 28,
   "id": "98edc72f",
   "metadata": {},
   "outputs": [
    {
     "data": {
      "text/plain": [
       "1413"
      ]
     },
     "execution_count": 28,
     "metadata": {},
     "output_type": "execute_result"
    }
   ],
   "source": [
    "# Checking that the description has been updated\n",
    "df_sales[df_sales.description == 'Sheba Perfect Portions Paté Wet Cat Food']['description'].count()"
   ]
  },
  {
   "cell_type": "code",
   "execution_count": 29,
   "id": "b9eabe26",
   "metadata": {},
   "outputs": [],
   "source": [
    "# Assuming PRODUCT should be the source of truth, we'll consolidate all sales to have description 'Indoor Pet Camera'\n",
    "# instead of 'Indoor Pet Camera (Wi-Fi)'\n",
    "df_sales.loc[df_sales.description == 'Indoor Pet Camera (Wi-Fi)','description'] = 'Indoor Pet Camera'"
   ]
  },
  {
   "cell_type": "code",
   "execution_count": 30,
   "id": "74abffa1",
   "metadata": {},
   "outputs": [
    {
     "data": {
      "text/plain": [
       "465"
      ]
     },
     "execution_count": 30,
     "metadata": {},
     "output_type": "execute_result"
    }
   ],
   "source": [
    "# Checking that the description has been updated (413 + 52) = 465\n",
    "df_sales[df_sales.description == 'Indoor Pet Camera']['description'].count()"
   ]
  },
  {
   "cell_type": "markdown",
   "id": "9eb6a551",
   "metadata": {},
   "source": [
    "#### Sales - stock_code"
   ]
  },
  {
   "cell_type": "code",
   "execution_count": 31,
   "id": "3d98d907",
   "metadata": {},
   "outputs": [
    {
     "data": {
      "text/plain": [
       "(20, 20)"
      ]
     },
     "execution_count": 31,
     "metadata": {},
     "output_type": "execute_result"
    }
   ],
   "source": [
    "len(df_sales.stock_code.unique()), len(df_products.stock_code.unique())"
   ]
  },
  {
   "cell_type": "code",
   "execution_count": 32,
   "id": "da967e97",
   "metadata": {},
   "outputs": [],
   "source": [
    "# Checking if codes from SALES are not in PRODUCTS\n",
    "for code in df_sales.stock_code.unique():\n",
    "    if code not in df_products.stock_code.unique():\n",
    "        print(code)"
   ]
  },
  {
   "cell_type": "markdown",
   "id": "9c54d47d",
   "metadata": {},
   "source": [
    "#### Sales - invoice_no: "
   ]
  },
  {
   "cell_type": "code",
   "execution_count": 33,
   "id": "a4f0791b",
   "metadata": {},
   "outputs": [
    {
     "data": {
      "text/plain": [
       "164"
      ]
     },
     "execution_count": 33,
     "metadata": {},
     "output_type": "execute_result"
    }
   ],
   "source": [
    "# We have 164 records without invoice_no\n",
    "df_sales[df_sales.invoice_no.isnull()]['customer_id'].count()"
   ]
  },
  {
   "cell_type": "code",
   "execution_count": 34,
   "id": "c1ece358",
   "metadata": {},
   "outputs": [
    {
     "data": {
      "text/html": [
       "<div>\n",
       "<style scoped>\n",
       "    .dataframe tbody tr th:only-of-type {\n",
       "        vertical-align: middle;\n",
       "    }\n",
       "\n",
       "    .dataframe tbody tr th {\n",
       "        vertical-align: top;\n",
       "    }\n",
       "\n",
       "    .dataframe thead th {\n",
       "        text-align: right;\n",
       "    }\n",
       "</style>\n",
       "<table border=\"1\" class=\"dataframe\">\n",
       "  <thead>\n",
       "    <tr style=\"text-align: right;\">\n",
       "      <th></th>\n",
       "      <th>transaction_date</th>\n",
       "      <th>customer_id</th>\n",
       "      <th>description</th>\n",
       "      <th>stock_code</th>\n",
       "      <th>invoice_no</th>\n",
       "      <th>quantity</th>\n",
       "      <th>sales</th>\n",
       "      <th>unit_price</th>\n",
       "    </tr>\n",
       "  </thead>\n",
       "  <tbody>\n",
       "    <tr>\n",
       "      <th>15605</th>\n",
       "      <td>2021-09-02 11:31:00</td>\n",
       "      <td>12471</td>\n",
       "      <td>Taste of the Wild High Prairie Grain-Free Dry ...</td>\n",
       "      <td>22423</td>\n",
       "      <td>NaN</td>\n",
       "      <td>-1</td>\n",
       "      <td>-65.70</td>\n",
       "      <td>65.70</td>\n",
       "    </tr>\n",
       "    <tr>\n",
       "      <th>24042</th>\n",
       "      <td>2021-12-01 08:44:00</td>\n",
       "      <td>13078</td>\n",
       "      <td>Sheba Perfect Portions Paté Wet Cat Food</td>\n",
       "      <td>22197</td>\n",
       "      <td>NaN</td>\n",
       "      <td>-2</td>\n",
       "      <td>-8.64</td>\n",
       "      <td>4.32</td>\n",
       "    </tr>\n",
       "    <tr>\n",
       "      <th>9309</th>\n",
       "      <td>2021-05-26 11:04:00</td>\n",
       "      <td>13089</td>\n",
       "      <td>Taste of the Wild High Prairie Grain-Free Dry ...</td>\n",
       "      <td>22423</td>\n",
       "      <td>NaN</td>\n",
       "      <td>-1</td>\n",
       "      <td>-65.70</td>\n",
       "      <td>65.70</td>\n",
       "    </tr>\n",
       "    <tr>\n",
       "      <th>17679</th>\n",
       "      <td>2021-09-29 12:49:00</td>\n",
       "      <td>14680</td>\n",
       "      <td>Earth Rated Dog Poop Bags</td>\n",
       "      <td>85099B</td>\n",
       "      <td>NaN</td>\n",
       "      <td>-16</td>\n",
       "      <td>-171.84</td>\n",
       "      <td>10.74</td>\n",
       "    </tr>\n",
       "    <tr>\n",
       "      <th>1844</th>\n",
       "      <td>2021-01-07 10:56:00</td>\n",
       "      <td>13680</td>\n",
       "      <td>ProBiotic Supplements for Dogs</td>\n",
       "      <td>79321</td>\n",
       "      <td>NaN</td>\n",
       "      <td>-12</td>\n",
       "      <td>-306.00</td>\n",
       "      <td>25.50</td>\n",
       "    </tr>\n",
       "  </tbody>\n",
       "</table>\n",
       "</div>"
      ],
      "text/plain": [
       "         transaction_date customer_id  \\\n",
       "15605 2021-09-02 11:31:00       12471   \n",
       "24042 2021-12-01 08:44:00       13078   \n",
       "9309  2021-05-26 11:04:00       13089   \n",
       "17679 2021-09-29 12:49:00       14680   \n",
       "1844  2021-01-07 10:56:00       13680   \n",
       "\n",
       "                                             description stock_code  \\\n",
       "15605  Taste of the Wild High Prairie Grain-Free Dry ...      22423   \n",
       "24042           Sheba Perfect Portions Paté Wet Cat Food      22197   \n",
       "9309   Taste of the Wild High Prairie Grain-Free Dry ...      22423   \n",
       "17679                          Earth Rated Dog Poop Bags     85099B   \n",
       "1844                      ProBiotic Supplements for Dogs      79321   \n",
       "\n",
       "       invoice_no  quantity   sales  unit_price  \n",
       "15605         NaN        -1  -65.70       65.70  \n",
       "24042         NaN        -2   -8.64        4.32  \n",
       "9309          NaN        -1  -65.70       65.70  \n",
       "17679         NaN       -16 -171.84       10.74  \n",
       "1844          NaN       -12 -306.00       25.50  "
      ]
     },
     "execution_count": 34,
     "metadata": {},
     "output_type": "execute_result"
    }
   ],
   "source": [
    "# Looking at some samples, they appear to have negative quantity and sales, we could assume these are returns\n",
    "df_sales[df_sales.invoice_no.isnull()].sample(5)"
   ]
  },
  {
   "cell_type": "code",
   "execution_count": 35,
   "id": "91efee41",
   "metadata": {},
   "outputs": [
    {
     "data": {
      "text/plain": [
       "164"
      ]
     },
     "execution_count": 35,
     "metadata": {},
     "output_type": "execute_result"
    }
   ],
   "source": [
    "# Double checking that all of them are negative values, which seems to be the case\n",
    "df_sales[df_sales.sales < 0]['customer_id'].count()"
   ]
  },
  {
   "cell_type": "code",
   "execution_count": 36,
   "id": "566f1b9d",
   "metadata": {},
   "outputs": [],
   "source": [
    "# Converting column to string\n",
    "df_sales.invoice_no = df_sales.invoice_no.astype('str')"
   ]
  },
  {
   "cell_type": "code",
   "execution_count": 37,
   "id": "87f3ecf1",
   "metadata": {},
   "outputs": [],
   "source": [
    "# If null fill with 'return'\n",
    "# If not we'll return the invoice id and remove the '.0'\n",
    "df_sales.invoice_no = df_sales.apply(lambda row: 'return' if (row['invoice_no'] == 'nan') else row['invoice_no'][:6], axis=1)"
   ]
  },
  {
   "cell_type": "code",
   "execution_count": 38,
   "id": "1e3a5265",
   "metadata": {},
   "outputs": [
    {
     "data": {
      "text/html": [
       "<div>\n",
       "<style scoped>\n",
       "    .dataframe tbody tr th:only-of-type {\n",
       "        vertical-align: middle;\n",
       "    }\n",
       "\n",
       "    .dataframe tbody tr th {\n",
       "        vertical-align: top;\n",
       "    }\n",
       "\n",
       "    .dataframe thead th {\n",
       "        text-align: right;\n",
       "    }\n",
       "</style>\n",
       "<table border=\"1\" class=\"dataframe\">\n",
       "  <thead>\n",
       "    <tr style=\"text-align: right;\">\n",
       "      <th></th>\n",
       "      <th>transaction_date</th>\n",
       "      <th>customer_id</th>\n",
       "      <th>description</th>\n",
       "      <th>stock_code</th>\n",
       "      <th>invoice_no</th>\n",
       "      <th>quantity</th>\n",
       "      <th>sales</th>\n",
       "      <th>unit_price</th>\n",
       "    </tr>\n",
       "  </thead>\n",
       "  <tbody>\n",
       "    <tr>\n",
       "      <th>12714</th>\n",
       "      <td>2021-07-18 14:24:00</td>\n",
       "      <td>16717</td>\n",
       "      <td>Dog and Puppy Pads</td>\n",
       "      <td>85123A</td>\n",
       "      <td>return</td>\n",
       "      <td>-1</td>\n",
       "      <td>-17.7</td>\n",
       "      <td>17.7</td>\n",
       "    </tr>\n",
       "    <tr>\n",
       "      <th>21586</th>\n",
       "      <td>2021-11-11 11:15:00</td>\n",
       "      <td>13881</td>\n",
       "      <td>Litter Slide Multi-Cat Scented Clumping Clay C...</td>\n",
       "      <td>22086</td>\n",
       "      <td>return</td>\n",
       "      <td>-6</td>\n",
       "      <td>-91.8</td>\n",
       "      <td>15.3</td>\n",
       "    </tr>\n",
       "  </tbody>\n",
       "</table>\n",
       "</div>"
      ],
      "text/plain": [
       "         transaction_date customer_id  \\\n",
       "12714 2021-07-18 14:24:00       16717   \n",
       "21586 2021-11-11 11:15:00       13881   \n",
       "\n",
       "                                             description stock_code  \\\n",
       "12714                                 Dog and Puppy Pads     85123A   \n",
       "21586  Litter Slide Multi-Cat Scented Clumping Clay C...      22086   \n",
       "\n",
       "      invoice_no  quantity  sales  unit_price  \n",
       "12714     return        -1  -17.7        17.7  \n",
       "21586     return        -6  -91.8        15.3  "
      ]
     },
     "execution_count": 38,
     "metadata": {},
     "output_type": "execute_result"
    }
   ],
   "source": [
    "df_sales[df_sales.sales < 0].sample(2)"
   ]
  },
  {
   "cell_type": "code",
   "execution_count": 39,
   "id": "ef83af10",
   "metadata": {},
   "outputs": [],
   "source": [
    "# Extracting year, month and day from transaction date\n",
    "df_sales['year'] = df_sales.transaction_date.dt.year.astype('str')\n",
    "df_sales['month'] = df_sales.transaction_date.dt.month_name()\n",
    "df_sales['day'] = df_sales.transaction_date.dt.day.astype('str')\n",
    "df_sales['day_of_week'] = df_sales.transaction_date.dt.day_name()"
   ]
  },
  {
   "cell_type": "code",
   "execution_count": 40,
   "id": "4390708c",
   "metadata": {},
   "outputs": [
    {
     "data": {
      "text/html": [
       "<div>\n",
       "<style scoped>\n",
       "    .dataframe tbody tr th:only-of-type {\n",
       "        vertical-align: middle;\n",
       "    }\n",
       "\n",
       "    .dataframe tbody tr th {\n",
       "        vertical-align: top;\n",
       "    }\n",
       "\n",
       "    .dataframe thead th {\n",
       "        text-align: right;\n",
       "    }\n",
       "</style>\n",
       "<table border=\"1\" class=\"dataframe\">\n",
       "  <thead>\n",
       "    <tr style=\"text-align: right;\">\n",
       "      <th></th>\n",
       "      <th>transaction_date</th>\n",
       "      <th>customer_id</th>\n",
       "      <th>description</th>\n",
       "      <th>stock_code</th>\n",
       "      <th>invoice_no</th>\n",
       "      <th>quantity</th>\n",
       "      <th>sales</th>\n",
       "      <th>unit_price</th>\n",
       "      <th>year</th>\n",
       "      <th>month</th>\n",
       "      <th>day</th>\n",
       "      <th>day_of_week</th>\n",
       "    </tr>\n",
       "  </thead>\n",
       "  <tbody>\n",
       "    <tr>\n",
       "      <th>8088</th>\n",
       "      <td>2021-05-11 14:17:00</td>\n",
       "      <td>17664</td>\n",
       "      <td>Purina ONE SmartBlend Natural Adult Chicken 10lb</td>\n",
       "      <td>23298</td>\n",
       "      <td>552835</td>\n",
       "      <td>1</td>\n",
       "      <td>29.7</td>\n",
       "      <td>29.7</td>\n",
       "      <td>2021</td>\n",
       "      <td>May</td>\n",
       "      <td>11</td>\n",
       "      <td>Tuesday</td>\n",
       "    </tr>\n",
       "    <tr>\n",
       "      <th>8402</th>\n",
       "      <td>2021-05-16 09:57:00</td>\n",
       "      <td>13319</td>\n",
       "      <td>Memory Foam Pet Beds for Small, Medium, and La...</td>\n",
       "      <td>47566</td>\n",
       "      <td>553220</td>\n",
       "      <td>2</td>\n",
       "      <td>59.4</td>\n",
       "      <td>29.7</td>\n",
       "      <td>2021</td>\n",
       "      <td>May</td>\n",
       "      <td>16</td>\n",
       "      <td>Sunday</td>\n",
       "    </tr>\n",
       "  </tbody>\n",
       "</table>\n",
       "</div>"
      ],
      "text/plain": [
       "        transaction_date customer_id  \\\n",
       "8088 2021-05-11 14:17:00       17664   \n",
       "8402 2021-05-16 09:57:00       13319   \n",
       "\n",
       "                                            description stock_code invoice_no  \\\n",
       "8088   Purina ONE SmartBlend Natural Adult Chicken 10lb      23298     552835   \n",
       "8402  Memory Foam Pet Beds for Small, Medium, and La...      47566     553220   \n",
       "\n",
       "      quantity  sales  unit_price  year month day day_of_week  \n",
       "8088         1   29.7        29.7  2021   May  11     Tuesday  \n",
       "8402         2   59.4        29.7  2021   May  16      Sunday  "
      ]
     },
     "execution_count": 40,
     "metadata": {},
     "output_type": "execute_result"
    }
   ],
   "source": [
    "df_sales.sample(2)"
   ]
  },
  {
   "cell_type": "code",
   "execution_count": 41,
   "id": "d5238577",
   "metadata": {},
   "outputs": [
    {
     "name": "stdout",
     "output_type": "stream",
     "text": [
      "<class 'pandas.core.frame.DataFrame'>\n",
      "Int64Index: 24505 entries, 0 to 25064\n",
      "Data columns (total 12 columns):\n",
      " #   Column            Non-Null Count  Dtype         \n",
      "---  ------            --------------  -----         \n",
      " 0   transaction_date  24505 non-null  datetime64[ns]\n",
      " 1   customer_id       24505 non-null  object        \n",
      " 2   description       24505 non-null  object        \n",
      " 3   stock_code        24505 non-null  object        \n",
      " 4   invoice_no        24505 non-null  object        \n",
      " 5   quantity          24505 non-null  int64         \n",
      " 6   sales             24505 non-null  float64       \n",
      " 7   unit_price        24505 non-null  float64       \n",
      " 8   year              24505 non-null  object        \n",
      " 9   month             24505 non-null  object        \n",
      " 10  day               24505 non-null  object        \n",
      " 11  day_of_week       24505 non-null  object        \n",
      "dtypes: datetime64[ns](1), float64(2), int64(1), object(8)\n",
      "memory usage: 2.4+ MB\n"
     ]
    }
   ],
   "source": [
    "df_sales.info()"
   ]
  },
  {
   "cell_type": "markdown",
   "id": "53978ae3",
   "metadata": {},
   "source": [
    "### DATA CLEANING - CUSTOMERS"
   ]
  },
  {
   "cell_type": "markdown",
   "id": "5ae43d8d",
   "metadata": {},
   "source": [
    "#### Customers - order_city"
   ]
  },
  {
   "cell_type": "code",
   "execution_count": 42,
   "id": "79916dcf",
   "metadata": {},
   "outputs": [
    {
     "data": {
      "text/plain": [
       "2665"
      ]
     },
     "execution_count": 42,
     "metadata": {},
     "output_type": "execute_result"
    }
   ],
   "source": [
    "# Number of cities\n",
    "df_customers.order_city.nunique()"
   ]
  },
  {
   "cell_type": "code",
   "execution_count": 43,
   "id": "62e45c85",
   "metadata": {},
   "outputs": [],
   "source": [
    "# Formatting city as Title to standardize\n",
    "df_customers.order_city = df_customers.order_city.apply(lambda city: city.title())"
   ]
  },
  {
   "cell_type": "code",
   "execution_count": 44,
   "id": "9c131ee7",
   "metadata": {},
   "outputs": [
    {
     "data": {
      "text/plain": [
       "2231"
      ]
     },
     "execution_count": 44,
     "metadata": {},
     "output_type": "execute_result"
    }
   ],
   "source": [
    "# Number dropped from 2665 to 2231\n",
    "df_customers.order_city.nunique()"
   ]
  },
  {
   "cell_type": "code",
   "execution_count": 45,
   "id": "839e4233",
   "metadata": {
    "scrolled": true
   },
   "outputs": [
    {
     "data": {
      "text/plain": [
       "New York         58\n",
       "Brooklyn         40\n",
       "Chicago          36\n",
       "Los Angeles      29\n",
       "Houston          29\n",
       "Miami            28\n",
       "San Francisco    27\n",
       "San Diego        25\n",
       "Seattle          21\n",
       "Dallas           21\n",
       "Name: order_city, dtype: int64"
      ]
     },
     "execution_count": 45,
     "metadata": {},
     "output_type": "execute_result"
    }
   ],
   "source": [
    "df_customers.order_city.value_counts().head(10)"
   ]
  },
  {
   "cell_type": "markdown",
   "id": "cb3a4ae0",
   "metadata": {},
   "source": [
    "#### Customers - order_postal"
   ]
  },
  {
   "cell_type": "code",
   "execution_count": 46,
   "id": "6c90cd4f",
   "metadata": {},
   "outputs": [
    {
     "data": {
      "text/plain": [
       "4253"
      ]
     },
     "execution_count": 46,
     "metadata": {},
     "output_type": "execute_result"
    }
   ],
   "source": [
    "df_customers.order_postal.nunique()"
   ]
  },
  {
   "cell_type": "code",
   "execution_count": 47,
   "id": "811e8235",
   "metadata": {
    "scrolled": false
   },
   "outputs": [
    {
     "data": {
      "text/plain": [
       "2033         64055\n",
       "919          18067\n",
       "130     99206-4437\n",
       "760     57078-6745\n",
       "4307    43832-9128\n",
       "280     22180-4105\n",
       "1856         27360\n",
       "583     75225-4020\n",
       "1413    11946-3217\n",
       "835            623\n",
       "Name: order_postal, dtype: object"
      ]
     },
     "execution_count": 47,
     "metadata": {},
     "output_type": "execute_result"
    }
   ],
   "source": [
    "# At first glance they look normal, just different if they include the additional 4 digits\n",
    "# These last 4 digits represent specific delivery routes within delivery areas.\n",
    "# During analysis, we also noticed some zip codes with only 3 or 4 digits,\n",
    "# Doing a bit of research we found out these are normal in some states and we need to pad those with 0s on the left\n",
    "df_customers.order_postal.sample(10)"
   ]
  },
  {
   "cell_type": "code",
   "execution_count": 48,
   "id": "b70e2170",
   "metadata": {},
   "outputs": [
    {
     "data": {
      "text/plain": [
       "array([10,  5,  4,  3], dtype=int64)"
      ]
     },
     "execution_count": 48,
     "metadata": {},
     "output_type": "execute_result"
    }
   ],
   "source": [
    "# Different lenghts of postal codes\n",
    "df_customers.order_postal.apply(lambda postal: len(postal)).unique()"
   ]
  },
  {
   "cell_type": "code",
   "execution_count": 49,
   "id": "f92f962b",
   "metadata": {},
   "outputs": [],
   "source": [
    "df_customers['order_postal_5_digits'] = df_customers.order_postal.apply(lambda postal: postal[:5] if (len(postal) >= 5) else postal.zfill(5) )"
   ]
  },
  {
   "cell_type": "code",
   "execution_count": 50,
   "id": "96827a85",
   "metadata": {},
   "outputs": [
    {
     "data": {
      "text/plain": [
       "array([5], dtype=int64)"
      ]
     },
     "execution_count": 50,
     "metadata": {},
     "output_type": "execute_result"
    }
   ],
   "source": [
    "# Checking it only has 5 digits\n",
    "df_customers.order_postal_5_digits.apply(lambda postal: len(postal)).unique()"
   ]
  },
  {
   "cell_type": "code",
   "execution_count": 51,
   "id": "019669b3",
   "metadata": {},
   "outputs": [],
   "source": [
    "# Leaving only one column\n",
    "df_customers.drop(columns='order_postal', axis=1, inplace=True)\n",
    "df_customers.rename(columns={'order_postal_5_digits':'order_postal'}, inplace=True)"
   ]
  },
  {
   "cell_type": "code",
   "execution_count": 52,
   "id": "59b95b57",
   "metadata": {},
   "outputs": [
    {
     "data": {
      "text/html": [
       "<div>\n",
       "<style scoped>\n",
       "    .dataframe tbody tr th:only-of-type {\n",
       "        vertical-align: middle;\n",
       "    }\n",
       "\n",
       "    .dataframe tbody tr th {\n",
       "        vertical-align: top;\n",
       "    }\n",
       "\n",
       "    .dataframe thead th {\n",
       "        text-align: right;\n",
       "    }\n",
       "</style>\n",
       "<table border=\"1\" class=\"dataframe\">\n",
       "  <thead>\n",
       "    <tr style=\"text-align: right;\">\n",
       "      <th></th>\n",
       "      <th>customer_id</th>\n",
       "      <th>order_city</th>\n",
       "      <th>order_state</th>\n",
       "      <th>latitude</th>\n",
       "      <th>longitude</th>\n",
       "      <th>order_postal</th>\n",
       "    </tr>\n",
       "  </thead>\n",
       "  <tbody>\n",
       "    <tr>\n",
       "      <th>1380</th>\n",
       "      <td>16392</td>\n",
       "      <td>Montgomery</td>\n",
       "      <td>NY</td>\n",
       "      <td>41.5276</td>\n",
       "      <td>-74.2368</td>\n",
       "      <td>12549</td>\n",
       "    </tr>\n",
       "    <tr>\n",
       "      <th>2289</th>\n",
       "      <td>15164</td>\n",
       "      <td>Catonsville</td>\n",
       "      <td>MD</td>\n",
       "      <td>39.2721</td>\n",
       "      <td>-76.7319</td>\n",
       "      <td>21228</td>\n",
       "    </tr>\n",
       "    <tr>\n",
       "      <th>338</th>\n",
       "      <td>17829</td>\n",
       "      <td>Fairfax</td>\n",
       "      <td>VA</td>\n",
       "      <td>38.8462</td>\n",
       "      <td>-77.3064</td>\n",
       "      <td>22032</td>\n",
       "    </tr>\n",
       "    <tr>\n",
       "      <th>880</th>\n",
       "      <td>17073</td>\n",
       "      <td>Reading</td>\n",
       "      <td>PA</td>\n",
       "      <td>40.3353</td>\n",
       "      <td>-75.9279</td>\n",
       "      <td>19606</td>\n",
       "    </tr>\n",
       "    <tr>\n",
       "      <th>2867</th>\n",
       "      <td>14383</td>\n",
       "      <td>Driggs</td>\n",
       "      <td>ID</td>\n",
       "      <td>43.7233</td>\n",
       "      <td>-111.1113</td>\n",
       "      <td>83422</td>\n",
       "    </tr>\n",
       "  </tbody>\n",
       "</table>\n",
       "</div>"
      ],
      "text/plain": [
       "      customer_id   order_city order_state  latitude  longitude order_postal\n",
       "1380        16392   Montgomery          NY   41.5276   -74.2368        12549\n",
       "2289        15164  Catonsville          MD   39.2721   -76.7319        21228\n",
       "338         17829      Fairfax          VA   38.8462   -77.3064        22032\n",
       "880         17073      Reading          PA   40.3353   -75.9279        19606\n",
       "2867        14383       Driggs          ID   43.7233  -111.1113        83422"
      ]
     },
     "execution_count": 52,
     "metadata": {},
     "output_type": "execute_result"
    }
   ],
   "source": [
    "df_customers.sample(5)"
   ]
  },
  {
   "cell_type": "markdown",
   "id": "1fb85baf",
   "metadata": {},
   "source": [
    "#### Customers - order_state"
   ]
  },
  {
   "cell_type": "code",
   "execution_count": 53,
   "id": "7801ce6b",
   "metadata": {},
   "outputs": [
    {
     "data": {
      "text/plain": [
       "212"
      ]
     },
     "execution_count": 53,
     "metadata": {},
     "output_type": "execute_result"
    }
   ],
   "source": [
    "# We are getting 212 states, but there should be only 50 states - we need to standardize\n",
    "df_customers.order_state.nunique()"
   ]
  },
  {
   "cell_type": "code",
   "execution_count": 54,
   "id": "74df7216",
   "metadata": {},
   "outputs": [],
   "source": [
    "# Creating a list of US states abbreviations from https://usastatescode.com/state-array-json\n",
    "states = ['AL','AK','AZ','AR','CA','CO','CT','DE','FL','GA','HI','ID','IL','IN','IA','KS','KY','LA','ME','MD','MA','MI','MN','MS','MO','MT','NE','NV','NH','NJ','NM','NY','NC','ND','OH','OK','OR','PA','RI','SC','SD','TN','TX','UT','VT','VA','WA','WV','WI','WY']"
   ]
  },
  {
   "cell_type": "code",
   "execution_count": 55,
   "id": "0d9d31de",
   "metadata": {},
   "outputs": [
    {
     "data": {
      "text/plain": [
       "array(['WY', 'WV', 'Wisconsin', 'WI', 'wi', 'Wi', 'WEST VIRGINIA',\n",
       "       'WASHINGTON', 'Washington', 'WA', 'wa', 'Wa', 'VT', 'VIRGINIA',\n",
       "       'Virginia', 'VERMONT', 'Va.', 'VA', 'va', 'Va', 'UTAH', 'Utah',\n",
       "       'UT', 'USVI', 'Tx', 'TX', 'tx', 'TN', 'tn', 'Texas', 'TEXAS', 'PA',\n",
       "       'texas', 'Tennessee', 'TENNESSEE', 'South Carolina',\n",
       "       'SOUTH CAROLINA', 'SD', 'SC', 'sc'], dtype=object)"
      ]
     },
     "execution_count": 55,
     "metadata": {},
     "output_type": "execute_result"
    }
   ],
   "source": [
    "# We have a combination of full names, upper/lower case and abbreviations\n",
    "df_customers.order_state.unique()[:40]"
   ]
  },
  {
   "cell_type": "code",
   "execution_count": 56,
   "id": "a82ee46b",
   "metadata": {},
   "outputs": [],
   "source": [
    "# Lucky for us, the region table has most of these mappings\n",
    "# We'll merge with the region table to get the values using left to make sure we keep all customers\n",
    "df_customers = df_customers.merge(df_state_region, on='order_state', how='left')"
   ]
  },
  {
   "cell_type": "code",
   "execution_count": 57,
   "id": "44a43e38",
   "metadata": {},
   "outputs": [
    {
     "data": {
      "text/plain": [
       "(54,\n",
       " array(['WY', 'WV', 'WI', 'WA', 'VT', 'VA', nan, 'UT', 'VI', 'TX', 'TN',\n",
       "        'PA', 'SC', 'SD', 'RI', 'PR', 'OR', 'OK', 'OH', 'NY', 'NV', 'NC',\n",
       "        'NM', 'NJ', 'NH', 'NE', 'ND', 'MT', 'MS', 'MO', 'MN', 'MI', 'ME',\n",
       "        'MD', 'MA', 'LA', 'KY', 'KS', 'IA', 'IN', 'IL', 'ID', 'HI', 'GA',\n",
       "        'FL', 'DC', 'DE', 'CT', 'CO', 'CA', 'AZ', 'AK', 'AR', 'AL', 'AE'],\n",
       "       dtype=object))"
      ]
     },
     "execution_count": 57,
     "metadata": {},
     "output_type": "execute_result"
    }
   ],
   "source": [
    "# We get 54, but there are only 50 US states\n",
    "# We see we also have some nan\n",
    "df_customers.state.nunique(), df_customers.state.unique()"
   ]
  },
  {
   "cell_type": "code",
   "execution_count": 58,
   "id": "692a88f9",
   "metadata": {},
   "outputs": [
    {
     "name": "stdout",
     "output_type": "stream",
     "text": [
      "nan VI PR DC AE "
     ]
    }
   ],
   "source": [
    "# Which ones are not US states?\n",
    "for state in df_customers.state.unique():\n",
    "    if state not in states:\n",
    "        print(state, end=' ')"
   ]
  },
  {
   "cell_type": "code",
   "execution_count": 59,
   "id": "97073569",
   "metadata": {},
   "outputs": [
    {
     "data": {
      "text/plain": [
       "8"
      ]
     },
     "execution_count": 59,
     "metadata": {},
     "output_type": "execute_result"
    }
   ],
   "source": [
    "# PR is Puerto Rico, DC is Washington DC, so we'll look at the other 2\n",
    "df_customers[df_customers.state.isin(['VI','AE'])]['order_state'].count()"
   ]
  },
  {
   "cell_type": "code",
   "execution_count": 60,
   "id": "f1be7296",
   "metadata": {
    "scrolled": true
   },
   "outputs": [
    {
     "data": {
      "text/html": [
       "<div>\n",
       "<style scoped>\n",
       "    .dataframe tbody tr th:only-of-type {\n",
       "        vertical-align: middle;\n",
       "    }\n",
       "\n",
       "    .dataframe tbody tr th {\n",
       "        vertical-align: top;\n",
       "    }\n",
       "\n",
       "    .dataframe thead th {\n",
       "        text-align: right;\n",
       "    }\n",
       "</style>\n",
       "<table border=\"1\" class=\"dataframe\">\n",
       "  <thead>\n",
       "    <tr style=\"text-align: right;\">\n",
       "      <th></th>\n",
       "      <th>customer_id</th>\n",
       "      <th>order_city</th>\n",
       "      <th>order_state</th>\n",
       "      <th>latitude</th>\n",
       "      <th>longitude</th>\n",
       "      <th>order_postal</th>\n",
       "      <th>state</th>\n",
       "      <th>region</th>\n",
       "    </tr>\n",
       "  </thead>\n",
       "  <tbody>\n",
       "    <tr>\n",
       "      <th>405</th>\n",
       "      <td>17727</td>\n",
       "      <td>St.Croix</td>\n",
       "      <td>USVI</td>\n",
       "      <td>NaN</td>\n",
       "      <td>NaN</td>\n",
       "      <td>00851</td>\n",
       "      <td>VI</td>\n",
       "      <td>Other</td>\n",
       "    </tr>\n",
       "    <tr>\n",
       "      <th>4271</th>\n",
       "      <td>12471</td>\n",
       "      <td>Fpo</td>\n",
       "      <td>AE</td>\n",
       "      <td>NaN</td>\n",
       "      <td>NaN</td>\n",
       "      <td>09645</td>\n",
       "      <td>AE</td>\n",
       "      <td>Other</td>\n",
       "    </tr>\n",
       "    <tr>\n",
       "      <th>4272</th>\n",
       "      <td>12468</td>\n",
       "      <td>Fpo</td>\n",
       "      <td>AE</td>\n",
       "      <td>NaN</td>\n",
       "      <td>NaN</td>\n",
       "      <td>09618</td>\n",
       "      <td>AE</td>\n",
       "      <td>Other</td>\n",
       "    </tr>\n",
       "    <tr>\n",
       "      <th>4273</th>\n",
       "      <td>12465</td>\n",
       "      <td>Apo</td>\n",
       "      <td>AE</td>\n",
       "      <td>NaN</td>\n",
       "      <td>NaN</td>\n",
       "      <td>09021</td>\n",
       "      <td>AE</td>\n",
       "      <td>Other</td>\n",
       "    </tr>\n",
       "    <tr>\n",
       "      <th>4274</th>\n",
       "      <td>12464</td>\n",
       "      <td>Apo</td>\n",
       "      <td>AE</td>\n",
       "      <td>NaN</td>\n",
       "      <td>NaN</td>\n",
       "      <td>09811</td>\n",
       "      <td>AE</td>\n",
       "      <td>Other</td>\n",
       "    </tr>\n",
       "    <tr>\n",
       "      <th>4275</th>\n",
       "      <td>12463</td>\n",
       "      <td>Apo</td>\n",
       "      <td>AE</td>\n",
       "      <td>NaN</td>\n",
       "      <td>NaN</td>\n",
       "      <td>09354</td>\n",
       "      <td>AE</td>\n",
       "      <td>Other</td>\n",
       "    </tr>\n",
       "    <tr>\n",
       "      <th>4276</th>\n",
       "      <td>12462</td>\n",
       "      <td>Apo</td>\n",
       "      <td>AE</td>\n",
       "      <td>NaN</td>\n",
       "      <td>NaN</td>\n",
       "      <td>09330</td>\n",
       "      <td>AE</td>\n",
       "      <td>Other</td>\n",
       "    </tr>\n",
       "    <tr>\n",
       "      <th>4277</th>\n",
       "      <td>12461</td>\n",
       "      <td>Apo</td>\n",
       "      <td>AE</td>\n",
       "      <td>NaN</td>\n",
       "      <td>NaN</td>\n",
       "      <td>09250</td>\n",
       "      <td>AE</td>\n",
       "      <td>Other</td>\n",
       "    </tr>\n",
       "  </tbody>\n",
       "</table>\n",
       "</div>"
      ],
      "text/plain": [
       "      customer_id order_city order_state  latitude  longitude order_postal  \\\n",
       "405         17727   St.Croix        USVI       NaN        NaN        00851   \n",
       "4271        12471        Fpo          AE       NaN        NaN        09645   \n",
       "4272        12468        Fpo          AE       NaN        NaN        09618   \n",
       "4273        12465        Apo          AE       NaN        NaN        09021   \n",
       "4274        12464        Apo          AE       NaN        NaN        09811   \n",
       "4275        12463        Apo          AE       NaN        NaN        09354   \n",
       "4276        12462        Apo          AE       NaN        NaN        09330   \n",
       "4277        12461        Apo          AE       NaN        NaN        09250   \n",
       "\n",
       "     state region  \n",
       "405     VI  Other  \n",
       "4271    AE  Other  \n",
       "4272    AE  Other  \n",
       "4273    AE  Other  \n",
       "4274    AE  Other  \n",
       "4275    AE  Other  \n",
       "4276    AE  Other  \n",
       "4277    AE  Other  "
      ]
     },
     "execution_count": 60,
     "metadata": {},
     "output_type": "execute_result"
    }
   ],
   "source": [
    "# St.Croix is in the Virgin Islands (VI)\n",
    "# APO is Army Post Office,  FPO is Fleet Post Office\n",
    "df_customers[df_customers.state.isin(['VI','AE'])]"
   ]
  },
  {
   "cell_type": "code",
   "execution_count": 61,
   "id": "ef6b92ce",
   "metadata": {},
   "outputs": [
    {
     "data": {
      "text/plain": [
       "22"
      ]
     },
     "execution_count": 61,
     "metadata": {},
     "output_type": "execute_result"
    }
   ],
   "source": [
    "# Checking the nan\n",
    "df_customers.state.isnull().sum()"
   ]
  },
  {
   "cell_type": "code",
   "execution_count": 62,
   "id": "c42507c3",
   "metadata": {},
   "outputs": [
    {
     "data": {
      "text/plain": [
       "array(['VERMONT', 'ri', 'Ne', 'N.C.', 'mo', 'Mississippi', 'Md', 'Ks',\n",
       "       'Kansas', 'IL.', 'Ia', 'georgia', 'ga', 'florida', 'Ct', 'Az.',\n",
       "       'Az', 'ALASKA', 'Alabama', 'Al'], dtype=object)"
      ]
     },
     "execution_count": 62,
     "metadata": {},
     "output_type": "execute_result"
    }
   ],
   "source": [
    "# Values for in the order_state column for the null states\n",
    "df_customers[df_customers.state.isnull()]['order_state'].unique()"
   ]
  },
  {
   "cell_type": "code",
   "execution_count": 63,
   "id": "d3082761",
   "metadata": {},
   "outputs": [],
   "source": [
    "# Creating dict with State and abbreviation mapping\n",
    "states_dict = { \"Alabama\": \"AL\", \"Alaska\": \"AK\", \"American Samoa\": \"AS\", \"Arizona\": \"AZ\", \"Arkansas\": \"AR\", \"California\": \"CA\", \"Colorado\": \"CO\", \"Connecticut\": \"CT\", \"Delaware\": \"DE\", \"District Of Columbia\": \"DC\", \"Federated States Of Micronesia\": \"FM\", \"Florida\": \"FL\", \"Georgia\": \"GA\", \"Guam\": \"GU\", \"Hawaii\": \"HI\", \"Idaho\": \"ID\", \"Illinois\": \"IL\", \"Indiana\": \"IN\", \"Iowa\": \"IA\", \"Kansas\": \"KS\", \"Kentucky\": \"KY\", \"Louisiana\": \"LA\", \"Maine\": \"ME\", \"Marshall Islands\": \"MH\", \"Maryland\": \"MD\", \"Massachusetts\": \"MA\", \"Michigan\": \"MI\", \"Minnesota\": \"MN\", \"Mississippi\": \"MS\", \"Missouri\": \"MO\", \"Montana\": \"MT\", \"Nebraska\": \"NE\", \"Nevada\": \"NV\", \"New Hampshire\": \"NH\", \"New Jersey\": \"NJ\", \"New Mexico\": \"NM\", \"New York\": \"NY\", \"North Carolina\": \"NC\", \"North Dakota\": \"ND\", \"Northern Mariana Islands\": \"MP\", \"Ohio\": \"OH\", \"Oklahoma\": \"OK\", \"Oregon\": \"OR\", \"Palau\": \"PW\", \"Pennsylvania\": \"PA\", \"Puerto Rico\": \"PR\", \"Rhode Island\": \"RI\", \"South Carolina\": \"SC\", \"South Dakota\": \"SD\", \"Tennessee\": \"TN\", \"Texas\": \"TX\", \"Utah\": \"UT\", \"Vermont\": \"VT\", \"Virgin Islands\": \"VI\", \"Virginia\": \"VA\", \"Washington\": \"WA\", \"West Virginia\": \"WV\", \"Wisconsin\": \"WI\", \"Wyoming\": \"WY\" }"
   ]
  },
  {
   "cell_type": "code",
   "execution_count": 64,
   "id": "569dd609",
   "metadata": {},
   "outputs": [],
   "source": [
    "# If order_state is abbreviated, removing periods and doing uppercase\n",
    "# If not mapping the state abbreviation from the our dictionary\n",
    "df_customers.loc[df_customers.state.isnull(), 'state'] = df_customers[df_customers.state.isnull()]['order_state'].\\\n",
    "                                                                apply(lambda state: state.replace('.','').upper() \\\n",
    "                                                                  if len(state) < 5 else states_dict.get(state.title()))"
   ]
  },
  {
   "cell_type": "code",
   "execution_count": 65,
   "id": "43352de2",
   "metadata": {},
   "outputs": [
    {
     "data": {
      "text/plain": [
       "(0, 54)"
      ]
     },
     "execution_count": 65,
     "metadata": {},
     "output_type": "execute_result"
    }
   ],
   "source": [
    "# Checking that we don't have more nulls for state\n",
    "df_customers.state.isnull().sum(), df_customers.state.nunique()"
   ]
  },
  {
   "cell_type": "code",
   "execution_count": 66,
   "id": "0fe29f85",
   "metadata": {},
   "outputs": [],
   "source": [
    "# Dropping order_state column\n",
    "df_customers = df_customers.drop(columns='order_state')"
   ]
  },
  {
   "cell_type": "code",
   "execution_count": 67,
   "id": "aab4adde",
   "metadata": {},
   "outputs": [],
   "source": [
    "# Renaming to original column name\n",
    "df_customers.rename(columns={'state':'order_state'}, inplace=True)"
   ]
  },
  {
   "cell_type": "markdown",
   "id": "c1561955",
   "metadata": {},
   "source": [
    "#### Customers - Latitude/Longitude"
   ]
  },
  {
   "cell_type": "code",
   "execution_count": 68,
   "id": "a0f3fe63",
   "metadata": {},
   "outputs": [
    {
     "data": {
      "text/plain": [
       "98"
      ]
     },
     "execution_count": 68,
     "metadata": {},
     "output_type": "execute_result"
    }
   ],
   "source": [
    "# 98 rows without latitude or longitude\n",
    "df_customers[(df_customers.latitude.isnull()) | (df_customers.longitude.isnull())]['customer_id'].count()"
   ]
  },
  {
   "cell_type": "code",
   "execution_count": 69,
   "id": "f23cd847",
   "metadata": {},
   "outputs": [],
   "source": [
    "# Creating reference to obtain lat/long from zipcode\n",
    "zip_long_lat = pd.read_csv('zip_lat_long.txt', dtype={'zip_code':str,'latitude':float,'longitude':float}, skiprows=1,\\\n",
    "                          names=['zipcode','latitude','longitude'])"
   ]
  },
  {
   "cell_type": "code",
   "execution_count": 70,
   "id": "6a5ae5a0",
   "metadata": {},
   "outputs": [],
   "source": [
    "# Converting zipcode to object and padding with zeros\n",
    "zip_long_lat.zipcode = zip_long_lat.zipcode.apply(lambda zipcode: str(zipcode).zfill(5))"
   ]
  },
  {
   "cell_type": "code",
   "execution_count": 71,
   "id": "7854822a",
   "metadata": {
    "scrolled": true
   },
   "outputs": [
    {
     "data": {
      "text/html": [
       "<div>\n",
       "<style scoped>\n",
       "    .dataframe tbody tr th:only-of-type {\n",
       "        vertical-align: middle;\n",
       "    }\n",
       "\n",
       "    .dataframe tbody tr th {\n",
       "        vertical-align: top;\n",
       "    }\n",
       "\n",
       "    .dataframe thead th {\n",
       "        text-align: right;\n",
       "    }\n",
       "</style>\n",
       "<table border=\"1\" class=\"dataframe\">\n",
       "  <thead>\n",
       "    <tr style=\"text-align: right;\">\n",
       "      <th></th>\n",
       "      <th>zipcode</th>\n",
       "      <th>latitude</th>\n",
       "      <th>longitude</th>\n",
       "    </tr>\n",
       "  </thead>\n",
       "  <tbody>\n",
       "    <tr>\n",
       "      <th>0</th>\n",
       "      <td>00601</td>\n",
       "      <td>18.180555</td>\n",
       "      <td>-66.749961</td>\n",
       "    </tr>\n",
       "    <tr>\n",
       "      <th>1</th>\n",
       "      <td>00602</td>\n",
       "      <td>18.361945</td>\n",
       "      <td>-67.175597</td>\n",
       "    </tr>\n",
       "  </tbody>\n",
       "</table>\n",
       "</div>"
      ],
      "text/plain": [
       "  zipcode   latitude  longitude\n",
       "0   00601  18.180555 -66.749961\n",
       "1   00602  18.361945 -67.175597"
      ]
     },
     "execution_count": 71,
     "metadata": {},
     "output_type": "execute_result"
    }
   ],
   "source": [
    "zip_long_lat.head(2)"
   ]
  },
  {
   "cell_type": "code",
   "execution_count": 72,
   "id": "0d167d3c",
   "metadata": {},
   "outputs": [
    {
     "data": {
      "text/html": [
       "<div>\n",
       "<style scoped>\n",
       "    .dataframe tbody tr th:only-of-type {\n",
       "        vertical-align: middle;\n",
       "    }\n",
       "\n",
       "    .dataframe tbody tr th {\n",
       "        vertical-align: top;\n",
       "    }\n",
       "\n",
       "    .dataframe thead th {\n",
       "        text-align: right;\n",
       "    }\n",
       "</style>\n",
       "<table border=\"1\" class=\"dataframe\">\n",
       "  <thead>\n",
       "    <tr style=\"text-align: right;\">\n",
       "      <th></th>\n",
       "      <th>customer_id</th>\n",
       "      <th>order_city</th>\n",
       "      <th>latitude</th>\n",
       "      <th>longitude</th>\n",
       "      <th>order_postal</th>\n",
       "      <th>order_state</th>\n",
       "      <th>region</th>\n",
       "      <th>zipcode</th>\n",
       "      <th>latitude_zip</th>\n",
       "      <th>longitude_zip</th>\n",
       "    </tr>\n",
       "  </thead>\n",
       "  <tbody>\n",
       "    <tr>\n",
       "      <th>0</th>\n",
       "      <td>18287</td>\n",
       "      <td>Rock Springs</td>\n",
       "      <td>41.5869</td>\n",
       "      <td>-109.2048</td>\n",
       "      <td>82901</td>\n",
       "      <td>WY</td>\n",
       "      <td>West</td>\n",
       "      <td>82901</td>\n",
       "      <td>41.379272</td>\n",
       "      <td>-108.978176</td>\n",
       "    </tr>\n",
       "    <tr>\n",
       "      <th>1</th>\n",
       "      <td>18283</td>\n",
       "      <td>Jackson</td>\n",
       "      <td>43.4800</td>\n",
       "      <td>-110.7618</td>\n",
       "      <td>83001</td>\n",
       "      <td>WY</td>\n",
       "      <td>West</td>\n",
       "      <td>83001</td>\n",
       "      <td>43.394562</td>\n",
       "      <td>-110.629837</td>\n",
       "    </tr>\n",
       "  </tbody>\n",
       "</table>\n",
       "</div>"
      ],
      "text/plain": [
       "   customer_id    order_city  latitude  longitude order_postal order_state  \\\n",
       "0        18287  Rock Springs   41.5869  -109.2048        82901          WY   \n",
       "1        18283       Jackson   43.4800  -110.7618        83001          WY   \n",
       "\n",
       "  region zipcode  latitude_zip  longitude_zip  \n",
       "0   West   82901     41.379272    -108.978176  \n",
       "1   West   83001     43.394562    -110.629837  "
      ]
     },
     "execution_count": 72,
     "metadata": {},
     "output_type": "execute_result"
    }
   ],
   "source": [
    "# Merging customers to obtain missing lat/long\n",
    "df_customers = df_customers.merge(zip_long_lat, left_on='order_postal', right_on='zipcode', how='left',\\\n",
    "                                  suffixes=(None,'_zip'))\n",
    "df_customers.head(2)"
   ]
  },
  {
   "cell_type": "code",
   "execution_count": 73,
   "id": "8b122c82",
   "metadata": {},
   "outputs": [],
   "source": [
    "# Round lat/long to 4 decimals (as original) for consistency\n",
    "df_customers.latitude = df_customers.latitude.apply(lambda lat: round(lat, 4))\n",
    "df_customers.longitude = df_customers.longitude.apply(lambda long: round(long, 4))"
   ]
  },
  {
   "cell_type": "code",
   "execution_count": 74,
   "id": "3ae8cfa6",
   "metadata": {},
   "outputs": [],
   "source": [
    "# Copying values from our merge to the columns with missing values\n",
    "df_customers.latitude.fillna(df_customers.latitude_zip, inplace=True)\n",
    "df_customers.longitude.fillna(df_customers.longitude_zip, inplace=True)"
   ]
  },
  {
   "cell_type": "code",
   "execution_count": 75,
   "id": "c8c8ed45",
   "metadata": {},
   "outputs": [
    {
     "data": {
      "text/html": [
       "<div>\n",
       "<style scoped>\n",
       "    .dataframe tbody tr th:only-of-type {\n",
       "        vertical-align: middle;\n",
       "    }\n",
       "\n",
       "    .dataframe tbody tr th {\n",
       "        vertical-align: top;\n",
       "    }\n",
       "\n",
       "    .dataframe thead th {\n",
       "        text-align: right;\n",
       "    }\n",
       "</style>\n",
       "<table border=\"1\" class=\"dataframe\">\n",
       "  <thead>\n",
       "    <tr style=\"text-align: right;\">\n",
       "      <th></th>\n",
       "      <th>customer_id</th>\n",
       "      <th>order_city</th>\n",
       "      <th>latitude</th>\n",
       "      <th>longitude</th>\n",
       "      <th>order_postal</th>\n",
       "      <th>order_state</th>\n",
       "      <th>region</th>\n",
       "      <th>zipcode</th>\n",
       "      <th>latitude_zip</th>\n",
       "      <th>longitude_zip</th>\n",
       "    </tr>\n",
       "  </thead>\n",
       "  <tbody>\n",
       "    <tr>\n",
       "      <th>4271</th>\n",
       "      <td>12471</td>\n",
       "      <td>Fpo</td>\n",
       "      <td>NaN</td>\n",
       "      <td>NaN</td>\n",
       "      <td>09645</td>\n",
       "      <td>AE</td>\n",
       "      <td>Other</td>\n",
       "      <td>NaN</td>\n",
       "      <td>NaN</td>\n",
       "      <td>NaN</td>\n",
       "    </tr>\n",
       "    <tr>\n",
       "      <th>4272</th>\n",
       "      <td>12468</td>\n",
       "      <td>Fpo</td>\n",
       "      <td>NaN</td>\n",
       "      <td>NaN</td>\n",
       "      <td>09618</td>\n",
       "      <td>AE</td>\n",
       "      <td>Other</td>\n",
       "      <td>NaN</td>\n",
       "      <td>NaN</td>\n",
       "      <td>NaN</td>\n",
       "    </tr>\n",
       "    <tr>\n",
       "      <th>4273</th>\n",
       "      <td>12465</td>\n",
       "      <td>Apo</td>\n",
       "      <td>NaN</td>\n",
       "      <td>NaN</td>\n",
       "      <td>09021</td>\n",
       "      <td>AE</td>\n",
       "      <td>Other</td>\n",
       "      <td>NaN</td>\n",
       "      <td>NaN</td>\n",
       "      <td>NaN</td>\n",
       "    </tr>\n",
       "    <tr>\n",
       "      <th>4274</th>\n",
       "      <td>12464</td>\n",
       "      <td>Apo</td>\n",
       "      <td>NaN</td>\n",
       "      <td>NaN</td>\n",
       "      <td>09811</td>\n",
       "      <td>AE</td>\n",
       "      <td>Other</td>\n",
       "      <td>NaN</td>\n",
       "      <td>NaN</td>\n",
       "      <td>NaN</td>\n",
       "    </tr>\n",
       "    <tr>\n",
       "      <th>4275</th>\n",
       "      <td>12463</td>\n",
       "      <td>Apo</td>\n",
       "      <td>NaN</td>\n",
       "      <td>NaN</td>\n",
       "      <td>09354</td>\n",
       "      <td>AE</td>\n",
       "      <td>Other</td>\n",
       "      <td>NaN</td>\n",
       "      <td>NaN</td>\n",
       "      <td>NaN</td>\n",
       "    </tr>\n",
       "    <tr>\n",
       "      <th>4276</th>\n",
       "      <td>12462</td>\n",
       "      <td>Apo</td>\n",
       "      <td>NaN</td>\n",
       "      <td>NaN</td>\n",
       "      <td>09330</td>\n",
       "      <td>AE</td>\n",
       "      <td>Other</td>\n",
       "      <td>NaN</td>\n",
       "      <td>NaN</td>\n",
       "      <td>NaN</td>\n",
       "    </tr>\n",
       "    <tr>\n",
       "      <th>4277</th>\n",
       "      <td>12461</td>\n",
       "      <td>Apo</td>\n",
       "      <td>NaN</td>\n",
       "      <td>NaN</td>\n",
       "      <td>09250</td>\n",
       "      <td>AE</td>\n",
       "      <td>Other</td>\n",
       "      <td>NaN</td>\n",
       "      <td>NaN</td>\n",
       "      <td>NaN</td>\n",
       "    </tr>\n",
       "  </tbody>\n",
       "</table>\n",
       "</div>"
      ],
      "text/plain": [
       "      customer_id order_city  latitude  longitude order_postal order_state  \\\n",
       "4271        12471        Fpo       NaN        NaN        09645          AE   \n",
       "4272        12468        Fpo       NaN        NaN        09618          AE   \n",
       "4273        12465        Apo       NaN        NaN        09021          AE   \n",
       "4274        12464        Apo       NaN        NaN        09811          AE   \n",
       "4275        12463        Apo       NaN        NaN        09354          AE   \n",
       "4276        12462        Apo       NaN        NaN        09330          AE   \n",
       "4277        12461        Apo       NaN        NaN        09250          AE   \n",
       "\n",
       "     region zipcode  latitude_zip  longitude_zip  \n",
       "4271  Other     NaN           NaN            NaN  \n",
       "4272  Other     NaN           NaN            NaN  \n",
       "4273  Other     NaN           NaN            NaN  \n",
       "4274  Other     NaN           NaN            NaN  \n",
       "4275  Other     NaN           NaN            NaN  \n",
       "4276  Other     NaN           NaN            NaN  \n",
       "4277  Other     NaN           NaN            NaN  "
      ]
     },
     "execution_count": 75,
     "metadata": {},
     "output_type": "execute_result"
    }
   ],
   "source": [
    "# We still have some missing lat/long, but they seem to be FPO (Fleet Post Office - Navy), APO (Army Post Office)\n",
    "df_customers[df_customers.latitude.isnull()]"
   ]
  },
  {
   "cell_type": "code",
   "execution_count": 76,
   "id": "bb251d36",
   "metadata": {},
   "outputs": [],
   "source": [
    "# Let's use a number just to indicate these are NaN, instead of leaving them as Nan\n",
    "df_customers.loc[np.isnan(df_customers.latitude), 'latitude'] = 0.0\n",
    "df_customers.loc[np.isnan(df_customers.longitude), 'longitude'] = 0.0"
   ]
  },
  {
   "cell_type": "code",
   "execution_count": 77,
   "id": "f7fe0f94",
   "metadata": {},
   "outputs": [
    {
     "data": {
      "text/html": [
       "<div>\n",
       "<style scoped>\n",
       "    .dataframe tbody tr th:only-of-type {\n",
       "        vertical-align: middle;\n",
       "    }\n",
       "\n",
       "    .dataframe tbody tr th {\n",
       "        vertical-align: top;\n",
       "    }\n",
       "\n",
       "    .dataframe thead th {\n",
       "        text-align: right;\n",
       "    }\n",
       "</style>\n",
       "<table border=\"1\" class=\"dataframe\">\n",
       "  <thead>\n",
       "    <tr style=\"text-align: right;\">\n",
       "      <th></th>\n",
       "      <th>customer_id</th>\n",
       "      <th>order_city</th>\n",
       "      <th>latitude</th>\n",
       "      <th>longitude</th>\n",
       "      <th>order_postal</th>\n",
       "      <th>order_state</th>\n",
       "      <th>region</th>\n",
       "      <th>zipcode</th>\n",
       "      <th>latitude_zip</th>\n",
       "      <th>longitude_zip</th>\n",
       "    </tr>\n",
       "  </thead>\n",
       "  <tbody>\n",
       "  </tbody>\n",
       "</table>\n",
       "</div>"
      ],
      "text/plain": [
       "Empty DataFrame\n",
       "Columns: [customer_id, order_city, latitude, longitude, order_postal, order_state, region, zipcode, latitude_zip, longitude_zip]\n",
       "Index: []"
      ]
     },
     "execution_count": 77,
     "metadata": {},
     "output_type": "execute_result"
    }
   ],
   "source": [
    "df_customers[df_customers.latitude.isnull()]"
   ]
  },
  {
   "cell_type": "code",
   "execution_count": 78,
   "id": "85d8b16d",
   "metadata": {},
   "outputs": [],
   "source": [
    "# Cleaning up temporary columns we created\n",
    "df_customers.drop(columns=['zipcode','latitude_zip','longitude_zip'], axis=1, inplace=True)"
   ]
  },
  {
   "cell_type": "code",
   "execution_count": 79,
   "id": "a23f3b9a",
   "metadata": {},
   "outputs": [
    {
     "data": {
      "text/plain": [
       "22"
      ]
     },
     "execution_count": 79,
     "metadata": {},
     "output_type": "execute_result"
    }
   ],
   "source": [
    "# We decided to keep region, but seems we have some missing values\n",
    "df_customers[df_customers.region.isnull()]['customer_id'].count()"
   ]
  },
  {
   "cell_type": "code",
   "execution_count": 80,
   "id": "afa279d6",
   "metadata": {},
   "outputs": [],
   "source": [
    "# Mapping missing values from the state_region table\n",
    "df_customers.loc[df_customers.region.isnull(),'region'] = \\\n",
    "    df_customers.apply(lambda row: df_state_region.loc[df_state_region.state==row['order_state'], 'region'].unique()[0], axis=1)"
   ]
  },
  {
   "cell_type": "code",
   "execution_count": 81,
   "id": "a65a3c36",
   "metadata": {},
   "outputs": [
    {
     "data": {
      "text/plain": [
       "0"
      ]
     },
     "execution_count": 81,
     "metadata": {},
     "output_type": "execute_result"
    }
   ],
   "source": [
    "# Cheking missing values\n",
    "df_customers[df_customers.region.isnull()]['customer_id'].count()"
   ]
  },
  {
   "cell_type": "code",
   "execution_count": 82,
   "id": "25aa28e0",
   "metadata": {},
   "outputs": [],
   "source": [
    "# Changing customer_id type from int to str\n",
    "df_customers.customer_id = df_customers.customer_id.astype('str')"
   ]
  },
  {
   "cell_type": "code",
   "execution_count": 83,
   "id": "a5dbeec3",
   "metadata": {},
   "outputs": [
    {
     "name": "stdout",
     "output_type": "stream",
     "text": [
      "<class 'pandas.core.frame.DataFrame'>\n",
      "Int64Index: 4372 entries, 0 to 4371\n",
      "Data columns (total 7 columns):\n",
      " #   Column        Non-Null Count  Dtype  \n",
      "---  ------        --------------  -----  \n",
      " 0   customer_id   4372 non-null   object \n",
      " 1   order_city    4372 non-null   object \n",
      " 2   latitude      4372 non-null   float64\n",
      " 3   longitude     4372 non-null   float64\n",
      " 4   order_postal  4372 non-null   object \n",
      " 5   order_state   4372 non-null   object \n",
      " 6   region        4372 non-null   object \n",
      "dtypes: float64(2), object(5)\n",
      "memory usage: 402.3+ KB\n"
     ]
    }
   ],
   "source": [
    "df_customers.info()"
   ]
  },
  {
   "cell_type": "markdown",
   "id": "98a3b711",
   "metadata": {},
   "source": [
    "### DATA CLEANING - PRODUCTS"
   ]
  },
  {
   "cell_type": "markdown",
   "id": "e79b8016",
   "metadata": {},
   "source": [
    "#### Products - weight"
   ]
  },
  {
   "cell_type": "code",
   "execution_count": 84,
   "id": "1c23bb08",
   "metadata": {},
   "outputs": [
    {
     "data": {
      "text/plain": [
       "0.5     3\n",
       "1.0     6\n",
       "2.0     5\n",
       "5.0     1\n",
       "6.0     1\n",
       "7.0     1\n",
       "10.0    1\n",
       "15.0    1\n",
       "40.0    1\n",
       "Name: weight, dtype: int64"
      ]
     },
     "execution_count": 84,
     "metadata": {},
     "output_type": "execute_result"
    }
   ],
   "source": [
    "# We see 9 unique weights, we'll leave them as float for now\n",
    "df_products.weight.value_counts().sort_index()"
   ]
  },
  {
   "cell_type": "code",
   "execution_count": 85,
   "id": "0c00a7c8",
   "metadata": {},
   "outputs": [
    {
     "data": {
      "text/plain": [
       "(0.5, 40.0)"
      ]
     },
     "execution_count": 85,
     "metadata": {},
     "output_type": "execute_result"
    }
   ],
   "source": [
    "df_products.weight.min(), df_products.weight.max()"
   ]
  },
  {
   "cell_type": "markdown",
   "id": "cfaccc27",
   "metadata": {},
   "source": [
    "#### Products - landed_cost"
   ]
  },
  {
   "cell_type": "code",
   "execution_count": 86,
   "id": "3e1717a4",
   "metadata": {},
   "outputs": [
    {
     "data": {
      "text/plain": [
       "2.5     1\n",
       "4.0     2\n",
       "5.0     1\n",
       "6.0     3\n",
       "8.0     2\n",
       "9.0     1\n",
       "12.0    1\n",
       "15.0    1\n",
       "18.0    2\n",
       "20.0    1\n",
       "22.0    1\n",
       "23.0    1\n",
       "30.0    1\n",
       "35.0    1\n",
       "36.0    1\n",
       "Name: landed_cost, dtype: int64"
      ]
     },
     "execution_count": 86,
     "metadata": {},
     "output_type": "execute_result"
    }
   ],
   "source": [
    "# We see 15 unique landed costs, we'll leave them as float for now\n",
    "df_products.landed_cost.value_counts().sort_index()"
   ]
  },
  {
   "cell_type": "code",
   "execution_count": 87,
   "id": "24df167f",
   "metadata": {},
   "outputs": [
    {
     "data": {
      "text/plain": [
       "(2.5, 36.0)"
      ]
     },
     "execution_count": 87,
     "metadata": {},
     "output_type": "execute_result"
    }
   ],
   "source": [
    "df_products.landed_cost.min(), df_products.landed_cost.max()"
   ]
  },
  {
   "cell_type": "markdown",
   "id": "2e9a897b",
   "metadata": {},
   "source": [
    "#### Products - shipping_cost_1000_mile"
   ]
  },
  {
   "cell_type": "code",
   "execution_count": 88,
   "id": "d82fd8d8",
   "metadata": {},
   "outputs": [
    {
     "data": {
      "text/plain": [
       "2.5     1\n",
       "4.0     2\n",
       "5.0     6\n",
       "6.0     2\n",
       "7.0     3\n",
       "9.0     2\n",
       "10.0    2\n",
       "12.0    1\n",
       "20.0    1\n",
       "Name: shipping_cost_1000_mile, dtype: int64"
      ]
     },
     "execution_count": 88,
     "metadata": {},
     "output_type": "execute_result"
    }
   ],
   "source": [
    "# We see 9 unique landed costs, we'll leave them as float for now\n",
    "df_products.shipping_cost_1000_mile.value_counts().sort_index()"
   ]
  },
  {
   "cell_type": "code",
   "execution_count": 89,
   "id": "6a3926b7",
   "metadata": {},
   "outputs": [
    {
     "data": {
      "text/plain": [
       "(2.5, 20.0)"
      ]
     },
     "execution_count": 89,
     "metadata": {},
     "output_type": "execute_result"
    }
   ],
   "source": [
    "df_products.shipping_cost_1000_mile.min(), df_products.shipping_cost_1000_mile.max()"
   ]
  },
  {
   "cell_type": "markdown",
   "id": "bfc878a5",
   "metadata": {},
   "source": [
    "#### Products - category"
   ]
  },
  {
   "cell_type": "code",
   "execution_count": 90,
   "id": "2bb1b487",
   "metadata": {},
   "outputs": [
    {
     "data": {
      "text/plain": [
       "Food                6\n",
       "Disposables         4\n",
       "Grooming            4\n",
       "Supplements         2\n",
       "Electronics         2\n",
       "Pet Food            1\n",
       "Cleanig Supplies    1\n",
       "Name: category, dtype: int64"
      ]
     },
     "execution_count": 90,
     "metadata": {},
     "output_type": "execute_result"
    }
   ],
   "source": [
    "# We noticed there is a misspelling on the category \"Cleanig Supplies\" \n",
    "# Also 1 product has \"Pet Food\" instead of \"Food\"\n",
    "df_products.category.value_counts()"
   ]
  },
  {
   "cell_type": "code",
   "execution_count": 91,
   "id": "a329bbc4",
   "metadata": {},
   "outputs": [],
   "source": [
    "# Fixing the typo\n",
    "df_products.loc[df_products.category == 'Cleanig Supplies','category'] = 'Cleaning Supplies'"
   ]
  },
  {
   "cell_type": "code",
   "execution_count": 93,
   "id": "20a514bc",
   "metadata": {},
   "outputs": [],
   "source": [
    "# Adjusting category\n",
    "df_products.loc[df_products.category == 'Pet Food', 'category'] = 'Food'"
   ]
  },
  {
   "cell_type": "code",
   "execution_count": 94,
   "id": "7eb432b0",
   "metadata": {},
   "outputs": [
    {
     "data": {
      "text/plain": [
       "array(['Food', 'Disposables', 'Cleaning Supplies', 'Supplements',\n",
       "       'Electronics', 'Grooming'], dtype=object)"
      ]
     },
     "execution_count": 94,
     "metadata": {},
     "output_type": "execute_result"
    }
   ],
   "source": [
    "df_products.category.unique()"
   ]
  },
  {
   "cell_type": "code",
   "execution_count": 95,
   "id": "d22dc035",
   "metadata": {},
   "outputs": [
    {
     "data": {
      "text/plain": [
       "Food                 7\n",
       "Disposables          4\n",
       "Grooming             4\n",
       "Supplements          2\n",
       "Electronics          2\n",
       "Cleaning Supplies    1\n",
       "Name: category, dtype: int64"
      ]
     },
     "execution_count": 95,
     "metadata": {},
     "output_type": "execute_result"
    }
   ],
   "source": [
    "df_products.category.value_counts()"
   ]
  },
  {
   "cell_type": "markdown",
   "id": "e243ddc9",
   "metadata": {},
   "source": [
    "### Final check on data"
   ]
  },
  {
   "cell_type": "code",
   "execution_count": 96,
   "id": "ae3c196e",
   "metadata": {},
   "outputs": [
    {
     "name": "stdout",
     "output_type": "stream",
     "text": [
      "DataFrame Shape: (24505, 12)\n",
      "\n"
     ]
    },
    {
     "data": {
      "text/html": [
       "<div>\n",
       "<style scoped>\n",
       "    .dataframe tbody tr th:only-of-type {\n",
       "        vertical-align: middle;\n",
       "    }\n",
       "\n",
       "    .dataframe tbody tr th {\n",
       "        vertical-align: top;\n",
       "    }\n",
       "\n",
       "    .dataframe thead th {\n",
       "        text-align: right;\n",
       "    }\n",
       "</style>\n",
       "<table border=\"1\" class=\"dataframe\">\n",
       "  <thead>\n",
       "    <tr style=\"text-align: right;\">\n",
       "      <th></th>\n",
       "      <th>Data Type</th>\n",
       "      <th>Count</th>\n",
       "      <th>Missing</th>\n",
       "      <th>Missing (%)</th>\n",
       "      <th>Mean</th>\n",
       "      <th>Min</th>\n",
       "      <th>Median</th>\n",
       "      <th>Max</th>\n",
       "      <th># Unique</th>\n",
       "    </tr>\n",
       "  </thead>\n",
       "  <tbody>\n",
       "    <tr>\n",
       "      <th>transaction_date</th>\n",
       "      <td>datetime64[ns]</td>\n",
       "      <td>24505</td>\n",
       "      <td>0</td>\n",
       "      <td>0.0</td>\n",
       "      <td>NaN</td>\n",
       "      <td>NaN</td>\n",
       "      <td>NaN</td>\n",
       "      <td>NaN</td>\n",
       "      <td>10951</td>\n",
       "    </tr>\n",
       "    <tr>\n",
       "      <th>customer_id</th>\n",
       "      <td>object</td>\n",
       "      <td>24505</td>\n",
       "      <td>0</td>\n",
       "      <td>0.0</td>\n",
       "      <td>NaN</td>\n",
       "      <td>NaN</td>\n",
       "      <td>NaN</td>\n",
       "      <td>NaN</td>\n",
       "      <td>4025</td>\n",
       "    </tr>\n",
       "    <tr>\n",
       "      <th>description</th>\n",
       "      <td>object</td>\n",
       "      <td>24505</td>\n",
       "      <td>0</td>\n",
       "      <td>0.0</td>\n",
       "      <td>NaN</td>\n",
       "      <td>NaN</td>\n",
       "      <td>NaN</td>\n",
       "      <td>NaN</td>\n",
       "      <td>20</td>\n",
       "    </tr>\n",
       "    <tr>\n",
       "      <th>stock_code</th>\n",
       "      <td>object</td>\n",
       "      <td>24505</td>\n",
       "      <td>0</td>\n",
       "      <td>0.0</td>\n",
       "      <td>NaN</td>\n",
       "      <td>NaN</td>\n",
       "      <td>NaN</td>\n",
       "      <td>NaN</td>\n",
       "      <td>20</td>\n",
       "    </tr>\n",
       "    <tr>\n",
       "      <th>invoice_no</th>\n",
       "      <td>object</td>\n",
       "      <td>24505</td>\n",
       "      <td>0</td>\n",
       "      <td>0.0</td>\n",
       "      <td>NaN</td>\n",
       "      <td>NaN</td>\n",
       "      <td>NaN</td>\n",
       "      <td>NaN</td>\n",
       "      <td>11376</td>\n",
       "    </tr>\n",
       "    <tr>\n",
       "      <th>quantity</th>\n",
       "      <td>int64</td>\n",
       "      <td>24505</td>\n",
       "      <td>0</td>\n",
       "      <td>0.0</td>\n",
       "      <td>3.0</td>\n",
       "      <td>-321.0</td>\n",
       "      <td>1.0</td>\n",
       "      <td>717.0</td>\n",
       "      <td>98</td>\n",
       "    </tr>\n",
       "    <tr>\n",
       "      <th>sales</th>\n",
       "      <td>float64</td>\n",
       "      <td>24505</td>\n",
       "      <td>0</td>\n",
       "      <td>0.0</td>\n",
       "      <td>62.0</td>\n",
       "      <td>-4911.0</td>\n",
       "      <td>30.0</td>\n",
       "      <td>38970.0</td>\n",
       "      <td>609</td>\n",
       "    </tr>\n",
       "    <tr>\n",
       "      <th>unit_price</th>\n",
       "      <td>float64</td>\n",
       "      <td>24505</td>\n",
       "      <td>0</td>\n",
       "      <td>0.0</td>\n",
       "      <td>29.0</td>\n",
       "      <td>4.0</td>\n",
       "      <td>22.0</td>\n",
       "      <td>3897.0</td>\n",
       "      <td>99</td>\n",
       "    </tr>\n",
       "    <tr>\n",
       "      <th>year</th>\n",
       "      <td>object</td>\n",
       "      <td>24505</td>\n",
       "      <td>0</td>\n",
       "      <td>0.0</td>\n",
       "      <td>NaN</td>\n",
       "      <td>NaN</td>\n",
       "      <td>NaN</td>\n",
       "      <td>NaN</td>\n",
       "      <td>2</td>\n",
       "    </tr>\n",
       "    <tr>\n",
       "      <th>month</th>\n",
       "      <td>object</td>\n",
       "      <td>24505</td>\n",
       "      <td>0</td>\n",
       "      <td>0.0</td>\n",
       "      <td>NaN</td>\n",
       "      <td>NaN</td>\n",
       "      <td>NaN</td>\n",
       "      <td>NaN</td>\n",
       "      <td>12</td>\n",
       "    </tr>\n",
       "    <tr>\n",
       "      <th>day</th>\n",
       "      <td>object</td>\n",
       "      <td>24505</td>\n",
       "      <td>0</td>\n",
       "      <td>0.0</td>\n",
       "      <td>NaN</td>\n",
       "      <td>NaN</td>\n",
       "      <td>NaN</td>\n",
       "      <td>NaN</td>\n",
       "      <td>31</td>\n",
       "    </tr>\n",
       "    <tr>\n",
       "      <th>day_of_week</th>\n",
       "      <td>object</td>\n",
       "      <td>24505</td>\n",
       "      <td>0</td>\n",
       "      <td>0.0</td>\n",
       "      <td>NaN</td>\n",
       "      <td>NaN</td>\n",
       "      <td>NaN</td>\n",
       "      <td>NaN</td>\n",
       "      <td>6</td>\n",
       "    </tr>\n",
       "  </tbody>\n",
       "</table>\n",
       "</div>"
      ],
      "text/plain": [
       "                       Data Type  Count  Missing  Missing (%)  Mean     Min  \\\n",
       "transaction_date  datetime64[ns]  24505        0          0.0   NaN     NaN   \n",
       "customer_id               object  24505        0          0.0   NaN     NaN   \n",
       "description               object  24505        0          0.0   NaN     NaN   \n",
       "stock_code                object  24505        0          0.0   NaN     NaN   \n",
       "invoice_no                object  24505        0          0.0   NaN     NaN   \n",
       "quantity                   int64  24505        0          0.0   3.0  -321.0   \n",
       "sales                    float64  24505        0          0.0  62.0 -4911.0   \n",
       "unit_price               float64  24505        0          0.0  29.0     4.0   \n",
       "year                      object  24505        0          0.0   NaN     NaN   \n",
       "month                     object  24505        0          0.0   NaN     NaN   \n",
       "day                       object  24505        0          0.0   NaN     NaN   \n",
       "day_of_week               object  24505        0          0.0   NaN     NaN   \n",
       "\n",
       "                  Median      Max  # Unique  \n",
       "transaction_date     NaN      NaN     10951  \n",
       "customer_id          NaN      NaN      4025  \n",
       "description          NaN      NaN        20  \n",
       "stock_code           NaN      NaN        20  \n",
       "invoice_no           NaN      NaN     11376  \n",
       "quantity             1.0    717.0        98  \n",
       "sales               30.0  38970.0       609  \n",
       "unit_price          22.0   3897.0        99  \n",
       "year                 NaN      NaN         2  \n",
       "month                NaN      NaN        12  \n",
       "day                  NaN      NaN        31  \n",
       "day_of_week          NaN      NaN         6  "
      ]
     },
     "execution_count": 96,
     "metadata": {},
     "output_type": "execute_result"
    }
   ],
   "source": [
    "final_sales_details = df_details(df_sales)\n",
    "final_sales_details"
   ]
  },
  {
   "cell_type": "code",
   "execution_count": 97,
   "id": "e0809b7b",
   "metadata": {},
   "outputs": [
    {
     "name": "stdout",
     "output_type": "stream",
     "text": [
      "DataFrame Shape: (4372, 7)\n",
      "\n"
     ]
    },
    {
     "data": {
      "text/html": [
       "<div>\n",
       "<style scoped>\n",
       "    .dataframe tbody tr th:only-of-type {\n",
       "        vertical-align: middle;\n",
       "    }\n",
       "\n",
       "    .dataframe tbody tr th {\n",
       "        vertical-align: top;\n",
       "    }\n",
       "\n",
       "    .dataframe thead th {\n",
       "        text-align: right;\n",
       "    }\n",
       "</style>\n",
       "<table border=\"1\" class=\"dataframe\">\n",
       "  <thead>\n",
       "    <tr style=\"text-align: right;\">\n",
       "      <th></th>\n",
       "      <th>Data Type</th>\n",
       "      <th>Count</th>\n",
       "      <th>Missing</th>\n",
       "      <th>Missing (%)</th>\n",
       "      <th>Mean</th>\n",
       "      <th>Min</th>\n",
       "      <th>Median</th>\n",
       "      <th>Max</th>\n",
       "      <th># Unique</th>\n",
       "    </tr>\n",
       "  </thead>\n",
       "  <tbody>\n",
       "    <tr>\n",
       "      <th>customer_id</th>\n",
       "      <td>object</td>\n",
       "      <td>4372</td>\n",
       "      <td>0</td>\n",
       "      <td>0.0</td>\n",
       "      <td>NaN</td>\n",
       "      <td>NaN</td>\n",
       "      <td>NaN</td>\n",
       "      <td>NaN</td>\n",
       "      <td>4372</td>\n",
       "    </tr>\n",
       "    <tr>\n",
       "      <th>order_city</th>\n",
       "      <td>object</td>\n",
       "      <td>4372</td>\n",
       "      <td>0</td>\n",
       "      <td>0.0</td>\n",
       "      <td>NaN</td>\n",
       "      <td>NaN</td>\n",
       "      <td>NaN</td>\n",
       "      <td>NaN</td>\n",
       "      <td>2231</td>\n",
       "    </tr>\n",
       "    <tr>\n",
       "      <th>latitude</th>\n",
       "      <td>float64</td>\n",
       "      <td>4372</td>\n",
       "      <td>0</td>\n",
       "      <td>0.0</td>\n",
       "      <td>38.0</td>\n",
       "      <td>0.0</td>\n",
       "      <td>39.0</td>\n",
       "      <td>61.0</td>\n",
       "      <td>2491</td>\n",
       "    </tr>\n",
       "    <tr>\n",
       "      <th>longitude</th>\n",
       "      <td>float64</td>\n",
       "      <td>4372</td>\n",
       "      <td>0</td>\n",
       "      <td>0.0</td>\n",
       "      <td>-92.0</td>\n",
       "      <td>-158.0</td>\n",
       "      <td>-87.0</td>\n",
       "      <td>0.0</td>\n",
       "      <td>2501</td>\n",
       "    </tr>\n",
       "    <tr>\n",
       "      <th>order_postal</th>\n",
       "      <td>object</td>\n",
       "      <td>4372</td>\n",
       "      <td>0</td>\n",
       "      <td>0.0</td>\n",
       "      <td>NaN</td>\n",
       "      <td>NaN</td>\n",
       "      <td>NaN</td>\n",
       "      <td>NaN</td>\n",
       "      <td>3429</td>\n",
       "    </tr>\n",
       "    <tr>\n",
       "      <th>order_state</th>\n",
       "      <td>object</td>\n",
       "      <td>4372</td>\n",
       "      <td>0</td>\n",
       "      <td>0.0</td>\n",
       "      <td>NaN</td>\n",
       "      <td>NaN</td>\n",
       "      <td>NaN</td>\n",
       "      <td>NaN</td>\n",
       "      <td>54</td>\n",
       "    </tr>\n",
       "    <tr>\n",
       "      <th>region</th>\n",
       "      <td>object</td>\n",
       "      <td>4372</td>\n",
       "      <td>0</td>\n",
       "      <td>0.0</td>\n",
       "      <td>NaN</td>\n",
       "      <td>NaN</td>\n",
       "      <td>NaN</td>\n",
       "      <td>NaN</td>\n",
       "      <td>4</td>\n",
       "    </tr>\n",
       "  </tbody>\n",
       "</table>\n",
       "</div>"
      ],
      "text/plain": [
       "             Data Type  Count  Missing  Missing (%)  Mean    Min  Median  \\\n",
       "customer_id     object   4372        0          0.0   NaN    NaN     NaN   \n",
       "order_city      object   4372        0          0.0   NaN    NaN     NaN   \n",
       "latitude       float64   4372        0          0.0  38.0    0.0    39.0   \n",
       "longitude      float64   4372        0          0.0 -92.0 -158.0   -87.0   \n",
       "order_postal    object   4372        0          0.0   NaN    NaN     NaN   \n",
       "order_state     object   4372        0          0.0   NaN    NaN     NaN   \n",
       "region          object   4372        0          0.0   NaN    NaN     NaN   \n",
       "\n",
       "               Max  # Unique  \n",
       "customer_id    NaN      4372  \n",
       "order_city     NaN      2231  \n",
       "latitude      61.0      2491  \n",
       "longitude      0.0      2501  \n",
       "order_postal   NaN      3429  \n",
       "order_state    NaN        54  \n",
       "region         NaN         4  "
      ]
     },
     "execution_count": 97,
     "metadata": {},
     "output_type": "execute_result"
    }
   ],
   "source": [
    "final_customers_details = df_details(df_customers)\n",
    "final_customers_details"
   ]
  },
  {
   "cell_type": "code",
   "execution_count": 98,
   "id": "5b6dee87",
   "metadata": {},
   "outputs": [
    {
     "name": "stdout",
     "output_type": "stream",
     "text": [
      "DataFrame Shape: (20, 6)\n",
      "\n"
     ]
    },
    {
     "data": {
      "text/html": [
       "<div>\n",
       "<style scoped>\n",
       "    .dataframe tbody tr th:only-of-type {\n",
       "        vertical-align: middle;\n",
       "    }\n",
       "\n",
       "    .dataframe tbody tr th {\n",
       "        vertical-align: top;\n",
       "    }\n",
       "\n",
       "    .dataframe thead th {\n",
       "        text-align: right;\n",
       "    }\n",
       "</style>\n",
       "<table border=\"1\" class=\"dataframe\">\n",
       "  <thead>\n",
       "    <tr style=\"text-align: right;\">\n",
       "      <th></th>\n",
       "      <th>Data Type</th>\n",
       "      <th>Count</th>\n",
       "      <th>Missing</th>\n",
       "      <th>Missing (%)</th>\n",
       "      <th>Mean</th>\n",
       "      <th>Min</th>\n",
       "      <th>Median</th>\n",
       "      <th>Max</th>\n",
       "      <th># Unique</th>\n",
       "    </tr>\n",
       "  </thead>\n",
       "  <tbody>\n",
       "    <tr>\n",
       "      <th>stock_code</th>\n",
       "      <td>object</td>\n",
       "      <td>20</td>\n",
       "      <td>0</td>\n",
       "      <td>0.0</td>\n",
       "      <td>NaN</td>\n",
       "      <td>NaN</td>\n",
       "      <td>NaN</td>\n",
       "      <td>NaN</td>\n",
       "      <td>20</td>\n",
       "    </tr>\n",
       "    <tr>\n",
       "      <th>weight</th>\n",
       "      <td>float64</td>\n",
       "      <td>20</td>\n",
       "      <td>0</td>\n",
       "      <td>0.0</td>\n",
       "      <td>5.0</td>\n",
       "      <td>0.0</td>\n",
       "      <td>2.0</td>\n",
       "      <td>40.0</td>\n",
       "      <td>9</td>\n",
       "    </tr>\n",
       "    <tr>\n",
       "      <th>landed_cost</th>\n",
       "      <td>float64</td>\n",
       "      <td>20</td>\n",
       "      <td>0</td>\n",
       "      <td>0.0</td>\n",
       "      <td>14.0</td>\n",
       "      <td>2.0</td>\n",
       "      <td>10.0</td>\n",
       "      <td>36.0</td>\n",
       "      <td>15</td>\n",
       "    </tr>\n",
       "    <tr>\n",
       "      <th>shipping_cost_1000_mile</th>\n",
       "      <td>float64</td>\n",
       "      <td>20</td>\n",
       "      <td>0</td>\n",
       "      <td>0.0</td>\n",
       "      <td>7.0</td>\n",
       "      <td>2.0</td>\n",
       "      <td>6.0</td>\n",
       "      <td>20.0</td>\n",
       "      <td>9</td>\n",
       "    </tr>\n",
       "    <tr>\n",
       "      <th>description</th>\n",
       "      <td>object</td>\n",
       "      <td>20</td>\n",
       "      <td>0</td>\n",
       "      <td>0.0</td>\n",
       "      <td>NaN</td>\n",
       "      <td>NaN</td>\n",
       "      <td>NaN</td>\n",
       "      <td>NaN</td>\n",
       "      <td>20</td>\n",
       "    </tr>\n",
       "    <tr>\n",
       "      <th>category</th>\n",
       "      <td>object</td>\n",
       "      <td>20</td>\n",
       "      <td>0</td>\n",
       "      <td>0.0</td>\n",
       "      <td>NaN</td>\n",
       "      <td>NaN</td>\n",
       "      <td>NaN</td>\n",
       "      <td>NaN</td>\n",
       "      <td>6</td>\n",
       "    </tr>\n",
       "  </tbody>\n",
       "</table>\n",
       "</div>"
      ],
      "text/plain": [
       "                        Data Type  Count  Missing  Missing (%)  Mean  Min  \\\n",
       "stock_code                 object     20        0          0.0   NaN  NaN   \n",
       "weight                    float64     20        0          0.0   5.0  0.0   \n",
       "landed_cost               float64     20        0          0.0  14.0  2.0   \n",
       "shipping_cost_1000_mile   float64     20        0          0.0   7.0  2.0   \n",
       "description                object     20        0          0.0   NaN  NaN   \n",
       "category                   object     20        0          0.0   NaN  NaN   \n",
       "\n",
       "                         Median   Max  # Unique  \n",
       "stock_code                  NaN   NaN        20  \n",
       "weight                      2.0  40.0         9  \n",
       "landed_cost                10.0  36.0        15  \n",
       "shipping_cost_1000_mile     6.0  20.0         9  \n",
       "description                 NaN   NaN        20  \n",
       "category                    NaN   NaN         6  "
      ]
     },
     "execution_count": 98,
     "metadata": {},
     "output_type": "execute_result"
    }
   ],
   "source": [
    "final_products_details = df_details(df_products)\n",
    "final_products_details"
   ]
  },
  {
   "cell_type": "markdown",
   "id": "d8afa568",
   "metadata": {},
   "source": [
    "### Exporting clean data"
   ]
  },
  {
   "cell_type": "code",
   "execution_count": 99,
   "id": "3da5d1d6",
   "metadata": {},
   "outputs": [
    {
     "data": {
      "text/plain": [
       "372"
      ]
     },
     "execution_count": 99,
     "metadata": {},
     "output_type": "execute_result"
    }
   ],
   "source": [
    "# Exporting to our local instance of Postgres\n",
    "df_sales.to_sql('sales', con=engine, if_exists='replace', index=False)\n",
    "df_products.to_sql('products', con=engine, if_exists='replace', index=False)\n",
    "df_customers.to_sql('customers', con=engine, if_exists='replace', index=False)"
   ]
  },
  {
   "cell_type": "code",
   "execution_count": 100,
   "id": "7a4930ed",
   "metadata": {},
   "outputs": [
    {
     "name": "stdout",
     "output_type": "stream",
     "text": [
      "CREATE TABLE \"sales\" (\n",
      "\"transaction_date\" TIMESTAMP,\n",
      "  \"customer_id\" TEXT,\n",
      "  \"description\" TEXT,\n",
      "  \"stock_code\" TEXT,\n",
      "  \"invoice_no\" TEXT,\n",
      "  \"quantity\" INTEGER,\n",
      "  \"sales\" REAL,\n",
      "  \"unit_price\" REAL,\n",
      "  \"year\" TEXT,\n",
      "  \"month\" TEXT,\n",
      "  \"day\" TEXT,\n",
      "  \"day_of_week\" TEXT\n",
      ")\n"
     ]
    }
   ],
   "source": [
    "# If we want to get the SQL statement template to create the schema directly in postgres or modify some data types\n",
    "print(pd.io.sql.get_schema(df_sales, name='sales'))"
   ]
  }
 ],
 "metadata": {
  "kernelspec": {
   "display_name": "Python 3 (ipykernel)",
   "language": "python",
   "name": "python3"
  },
  "language_info": {
   "codemirror_mode": {
    "name": "ipython",
    "version": 3
   },
   "file_extension": ".py",
   "mimetype": "text/x-python",
   "name": "python",
   "nbconvert_exporter": "python",
   "pygments_lexer": "ipython3",
   "version": "3.11.3"
  }
 },
 "nbformat": 4,
 "nbformat_minor": 5
}
